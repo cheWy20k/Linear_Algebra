{
 "cells": [
  {
   "cell_type": "markdown",
   "metadata": {},
   "source": [
    "#### Enrico Julian U. Absin\n",
    "#### CS 3101N Group 2\n",
    "### System of Linear Equations\n",
    "# <font color = red> ASSIGNMENT 1</font>\n",
    "- The above python functions are developed to automate forward elimination.\n",
    "- To complete the process of determining the solution, create a function or steps of function that will automate backward substitution."
   ]
  }
 ],
 "metadata": {
  "kernelspec": {
   "display_name": "Python 3",
   "language": "python",
   "name": "python3"
  },
  "language_info": {
   "codemirror_mode": {
    "name": "ipython",
    "version": 3
   },
   "file_extension": ".py",
   "mimetype": "text/x-python",
   "name": "python",
   "nbconvert_exporter": "python",
   "pygments_lexer": "ipython3",
   "version": "3.11.5"
  }
 },
 "nbformat": 4,
 "nbformat_minor": 2
}
