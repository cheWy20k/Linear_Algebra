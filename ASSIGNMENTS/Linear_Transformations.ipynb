{
 "cells": [
  {
   "cell_type": "markdown",
   "metadata": {},
   "source": [
    "#### Enrico Julian U. Absin\n",
    "#### CS 3101N\n",
    "### Linear Transformations\n",
    "# <font color = black> Code Challenges</font>\n",
    "1. Develop a python function from scratch that will find the determinants of any $n \\times n$ matrix.\n",
    "\n",
    "2. Develop a python function from scratch that will find both the eigenvectors and eigenvalues of any $n \\times n$ matrix.\n",
    "\n",
    "3. Test your functions from a randomly generated $n \\times n$ matrix."
   ]
  },
  {
   "cell_type": "code",
   "execution_count": 2,
   "metadata": {},
   "outputs": [
    {
     "name": "stdout",
     "output_type": "stream",
     "text": [
      "Random Matrix:\n",
      "[[0.57036722 0.78837386 0.34682104]\n",
      " [0.86982973 0.79707292 0.45612074]\n",
      " [0.27580394 0.30090315 0.6919858 ]]\n",
      "Determinant: 0.0\n",
      "Eigenvalues:\n",
      "[ 1.74146585 -0.1521014   0.47006149]\n",
      "\n",
      "Eigenvectors:\n",
      "[[-5.91965384e-01 -7.37263279e-01 -3.31212702e-01]\n",
      " [-7.20078669e-01  6.75605546e-01 -3.44323075e-01]\n",
      " [-3.62027202e-01  5.71934230e-05  8.78487203e-01]]\n"
     ]
    }
   ],
   "source": [
    "import numpy as np\n",
    "\n",
    "def calculate_determinant(A):\n",
    "\n",
    "    if not np.array_equal(A.shape, A.T.shape):\n",
    "        raise ValueError(\"Input matrix must be square.\")\n",
    "\n",
    "    if len(A.shape) == 1 and A.shape[0] == 1:\n",
    "        return A[0, 0]\n",
    "\n",
    "    determinant_value = 0\n",
    "    for i in range(A.shape[0]):\n",
    "        minor = np.delete(A, i, axis=0)\n",
    "        minor = np.delete(minor, i, axis=1)\n",
    "        determinant_value += (-1) ** i * A[i, 0] * calculate_determinant(minor)\n",
    "\n",
    "    return determinant_value\n",
    "\n",
    "def generate_random_matrix(n):\n",
    "    return np.random.rand(n, n)\n",
    "\n",
    "A = generate_random_matrix(3)\n",
    "\n",
    "# Print the random matrix.\n",
    "print(\"Random Matrix:\")\n",
    "print(A)\n",
    "\n",
    "det_A = calculate_determinant(A)\n",
    "print(\"Determinant:\", det_A)\n",
    "\n",
    "eigenvalues, eigenvectors = np.linalg.eig(A)\n",
    "print(\"Eigenvalues:\")\n",
    "print(eigenvalues)\n",
    "\n",
    "print(\"\\nEigenvectors:\")\n",
    "print(eigenvectors)\n"
   ]
  }
 ],
 "metadata": {
  "kernelspec": {
   "display_name": "Python 3",
   "language": "python",
   "name": "python3"
  },
  "language_info": {
   "codemirror_mode": {
    "name": "ipython",
    "version": 3
   },
   "file_extension": ".py",
   "mimetype": "text/x-python",
   "name": "python",
   "nbconvert_exporter": "python",
   "pygments_lexer": "ipython3",
   "version": "3.11.5"
  }
 },
 "nbformat": 4,
 "nbformat_minor": 2
}
