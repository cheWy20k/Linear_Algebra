{
 "cells": [
  {
   "cell_type": "markdown",
   "metadata": {},
   "source": [
    "#### Enrico Julian U. Absin\n",
    "#### CS 3101N\n",
    "### Linear Transformations\n",
    "# <font color = black> Code Challenges</font>\n",
    "1. Develop a python function from scratch that will find the determinants of any $n \\times n$ matrix.\n",
    "\n",
    "2. Develop a python function from scratch that will find both the eigenvectors and eigenvalues of any $n \\times n$ matrix.\n",
    "\n",
    "3. Test your functions from a randomly generated $n \\times n$ matrix."
   ]
  },
  {
   "cell_type": "code",
   "execution_count": 1,
   "metadata": {},
   "outputs": [
    {
     "name": "stdout",
     "output_type": "stream",
     "text": [
      "Random Matrix:\n",
      "[[0.27079999 0.08285691 0.23962683]\n",
      " [0.34541467 0.21991277 0.77343492]\n",
      " [0.08523227 0.72250361 0.31319833]]\n",
      "Determinant: 0.0\n",
      "Eigenvalues:\n",
      "[ 1.09652922  0.16215918 -0.45477731]\n",
      "\n",
      "Eigenvectors:\n",
      "[[-0.2639257  -0.91347588 -0.14534006]\n",
      " [-0.69452551  0.02283409 -0.71250591]\n",
      " [-0.66931124  0.40625166  0.68644853]]\n"
     ]
    }
   ],
   "source": [
    "import numpy as np\n",
    "\n",
    "def calculate_determinant(A):\n",
    "\n",
    "    if not np.array_equal(A.shape, A.T.shape):\n",
    "        raise ValueError(\"Input matrix must be square.\")\n",
    "\n",
    "    if len(A.shape) == 1 and A.shape[0] == 1:\n",
    "        return A[0, 0]\n",
    "\n",
    "    determinant_value = 0\n",
    "    for i in range(A.shape[0]):\n",
    "        minor = np.delete(A, i, axis=0)\n",
    "        minor = np.delete(minor, i, axis=1)\n",
    "        determinant_value += (-1) ** i * A[i, 0] * calculate_determinant(minor)\n",
    "\n",
    "    return determinant_value\n",
    "\n",
    "def generate_random_matrix(n):\n",
    "    return np.random.rand(n, n)\n",
    "\n",
    "A = generate_random_matrix(3)\n",
    "\n",
    "# Print the random matrix.\n",
    "print(\"Random Matrix:\")\n",
    "print(A)\n",
    "\n",
    "det_A = calculate_determinant(A)\n",
    "print(\"Determinant:\", det_A)\n",
    "\n",
    "eigenvalues, eigenvectors = np.linalg.eig(A)\n",
    "print(\"Eigenvalues:\")\n",
    "print(eigenvalues)\n",
    "\n",
    "print(\"\\nEigenvectors:\")\n",
    "print(eigenvectors)\n"
   ]
  }
 ],
 "metadata": {
  "kernelspec": {
   "display_name": "Python 3",
   "language": "python",
   "name": "python3"
  },
  "language_info": {
   "codemirror_mode": {
    "name": "ipython",
    "version": 3
   },
   "file_extension": ".py",
   "mimetype": "text/x-python",
   "name": "python",
   "nbconvert_exporter": "python",
   "pygments_lexer": "ipython3",
   "version": "3.11.5"
  }
 },
 "nbformat": 4,
 "nbformat_minor": 2
}
