{
 "cells": [
  {
   "cell_type": "markdown",
   "metadata": {},
   "source": [
    "#### Enrico Julian U. Absin\n",
    "#### CS 3101N\n",
    "### Matrix Algebra\n",
    "# <font color = black> Code Challenges</font>\n",
    "1. Without the use of any python libraries or modules, develop a function that can perform matrix addition, given two numpy matrices.\n",
    "\n",
    "2. Without the use of any python libraries or modules, develop a function that can multiply two numpy matrices.\n",
    "\n",
    "3. The rule of distributivity states that given two matrices 𝐴 and 𝐵 and a scalar, 𝑘, then 𝑘(𝐴+𝐵)=𝑘𝐴+𝑘𝐵. Instead of writing a proof mathematically, develop two codes for 𝑘(𝐴+𝐵) and 𝑘𝐴+𝑘𝐵.\n",
    "\n",
    "4. Without using a python library or modules develop a function that can extract the diagonal of a numpy matrix.\n",
    "\n",
    "5. Without using a python library or modules develop a function that can find a trace of a numpy matrix."
   ]
  },
  {
   "cell_type": "code",
   "execution_count": 7,
   "metadata": {},
   "outputs": [],
   "source": [
    "import numpy as np"
   ]
  },
  {
   "cell_type": "code",
   "execution_count": 15,
   "metadata": {},
   "outputs": [
    {
     "name": "stdout",
     "output_type": "stream",
     "text": [
      "Matrix A:\n",
      "[[1 3 8]\n",
      " [3 7 2]]\n",
      "Matrix B:\n",
      "[[ 7  6  5]\n",
      " [15 14 12]]\n",
      "Sum of A and B:\n",
      "[[ 8  9 13]\n",
      " [18 21 14]]\n"
     ]
    }
   ],
   "source": [
    "#1.#\n",
    "def matrix_addition(A, B):\n",
    "  if not np.array_equal(A.shape, B.shape):\n",
    "    raise ValueError(\"Input matrices should have the same shape.\")\n",
    "\n",
    "  C = np.zeros_like(A)\n",
    "  for i in range(A.shape[0]):\n",
    "    for j in range(A.shape[1]):\n",
    "      C[i, j] = A[i, j] + B[i, j]\n",
    "\n",
    "  return C\n",
    "\n",
    "A = np.array([[1, 3, 8], [3, 7, 2]])\n",
    "B = np.array([[7, 6, 5], [15, 14, 12]])\n",
    "\n",
    "C = matrix_addition(A, B)\n",
    "\n",
    "print(\"Matrix A:\")\n",
    "print(A)\n",
    "print(\"Matrix B:\")\n",
    "print(B)\n",
    "print(\"Sum of A and B:\")\n",
    "print(C)"
   ]
  },
  {
   "cell_type": "code",
   "execution_count": 9,
   "metadata": {},
   "outputs": [
    {
     "name": "stdout",
     "output_type": "stream",
     "text": [
      "Matrix A:\n",
      "[[1 2]\n",
      " [3 4]]\n",
      "Matrix B:\n",
      "[[5 6]\n",
      " [7 8]]\n",
      "Product of A and B:\n",
      "[[19. 22.]\n",
      " [43. 50.]]\n"
     ]
    }
   ],
   "source": [
    "#2.#\n",
    "def matrix_multiplication(A, B):\n",
    "  if A.shape[1] != B.shape[0]:\n",
    "    raise ValueError(\"Incompatible matrix dimensions for multiplication.\")\n",
    "\n",
    "  m, n, p = A.shape[0], A.shape[1], B.shape[1]\n",
    "  C = np.zeros((m, p))\n",
    "\n",
    "  for i in range(m):\n",
    "    for j in range(p):\n",
    "      for k in range(n):\n",
    "        C[i, j] += A[i, k] * B[k, j]\n",
    "\n",
    "  return C\n",
    "\n",
    "A = np.array([[1, 2], [3, 4]])\n",
    "B = np.array([[5, 6], [7, 8]])\n",
    "\n",
    "C = matrix_multiplication(A, B)\n",
    "\n",
    "print(\"Matrix A:\")\n",
    "print(A)\n",
    "print(\"Matrix B:\")\n",
    "print(B)\n",
    "print(\"Product of A and B:\")\n",
    "print(C)"
   ]
  },
  {
   "cell_type": "code",
   "execution_count": 12,
   "metadata": {},
   "outputs": [
    {
     "name": "stdout",
     "output_type": "stream",
     "text": [
      "Matrix A:\n",
      "[[1 2]\n",
      " [3 4]]\n",
      "Matrix B:\n",
      "[[5 6]\n",
      " [7 8]]\n",
      "k*(A+B):\n",
      "[[12 16]\n",
      " [20 24]]\n",
      "kA+kB:\n",
      "[[12 16]\n",
      " [20 24]]\n"
     ]
    }
   ],
   "source": [
    "#4.#\n",
    "def distribute_k(k, A, B):\n",
    "  if not np.array_equal(A.shape, B.shape):\n",
    "    raise ValueError(\"Input matrices must have the same shape.\")\n",
    "\n",
    "  sum_matrix = A + B\n",
    "  return k * sum_matrix\n",
    "\n",
    "def distribute_k_separate(k, A, B):\n",
    "  if not np.array_equal(A.shape, B.shape):\n",
    "    raise ValueError(\"Input matrices must have the same shape.\")\n",
    "\n",
    "  kA = k * A\n",
    "  kB = k * B\n",
    "  return kA + kB\n",
    "\n",
    "A = np.array([[1, 2], [3, 4]])\n",
    "B = np.array([[5, 6], [7, 8]])\n",
    "\n",
    "k = 2\n",
    "\n",
    "C = distribute_k(k, A, B)\n",
    "\n",
    "D = distribute_k_separate(k, A, B)\n",
    "\n",
    "print(\"Matrix A:\")\n",
    "print(A)\n",
    "print(\"Matrix B:\")\n",
    "print(B)\n",
    "print(\"k*(A+B):\")\n",
    "print(C)\n",
    "print(\"kA+kB:\")\n",
    "print(D)"
   ]
  },
  {
   "cell_type": "code",
   "execution_count": 14,
   "metadata": {},
   "outputs": [
    {
     "name": "stdout",
     "output_type": "stream",
     "text": [
      "Matrix A:\n",
      "[[1 3 6]\n",
      " [2 4 6]\n",
      " [3 6 9]]\n",
      "Trace of A: 14\n"
     ]
    }
   ],
   "source": [
    "def matrix_trace(A):\n",
    "  if not np.array_equal(A.shape, A.T.shape):\n",
    "    raise ValueError(\"Input matrix must be square.\")\n",
    "\n",
    "  trace = 0\n",
    "  for i in range(A.shape[0]):\n",
    "    trace += A[i, i]\n",
    "\n",
    "  return trace\n",
    "\n",
    "A = np.array([[1, 3, 6], [2, 4, 6], [3, 6, 9]])\n",
    "\n",
    "trace = matrix_trace(A)\n",
    "\n",
    "print(\"Matrix A:\")\n",
    "print(A)\n",
    "print(\"Trace of A:\", trace)"
   ]
  }
 ],
 "metadata": {
  "kernelspec": {
   "display_name": "Python 3",
   "language": "python",
   "name": "python3"
  },
  "language_info": {
   "codemirror_mode": {
    "name": "ipython",
    "version": 3
   },
   "file_extension": ".py",
   "mimetype": "text/x-python",
   "name": "python",
   "nbconvert_exporter": "python",
   "pygments_lexer": "ipython3",
   "version": "3.11.5"
  }
 },
 "nbformat": 4,
 "nbformat_minor": 2
}
