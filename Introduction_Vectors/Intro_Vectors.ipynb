{
 "cells": [
  {
   "attachments": {},
   "cell_type": "markdown",
   "metadata": {},
   "source": [
    "## Assignment 1 Answers\n",
    "### 1. Let  u = (1,-2,4) and v = (3,5,1) w = (2,1,-3) find:<br />\n",
    "#### a. $3u - 2v$\n",
    "*Manual Solution*\n",
    "$$\n",
    "\\begin{align*}\n",
    "3u - 2v &= 3(1,-2,4) - 2(3,5,1)\\\\\n",
    "&= 3(1,-2,4) - 2(3,5,1)\\\\\n",
    "&= (3,-6,12) - (6,10,2)\\\\\n",
    "&= (-3,-16,10)\n",
    "\\end{align*}\n",
    "$$\n",
    "*Pythonic Solution*"
   ]
  },
  {
   "cell_type": "code",
   "execution_count": 9,
   "metadata": {},
   "outputs": [
    {
     "name": "stdout",
     "output_type": "stream",
     "text": [
      "3u + 2v = [ -3 -16  10]\n"
     ]
    }
   ],
   "source": [
    "import numpy as np\n",
    "u = np.array([1, -2, 4])\n",
    "v = np.array([3, 5, 1])\n",
    "print(\"3u + 2v =\",3*u - 2*v)"
   ]
  },
  {
   "attachments": {},
   "cell_type": "markdown",
   "metadata": {},
   "source": [
    "#### b. $5u + 3v - 4w$\n",
    "*Manual Solution*\n",
    "$$\n",
    "\\begin{align*}\n",
    "5u + 3v - 4w &= 5(1,-2,4) + 3(3,5,1) - 4(2,1,-3)\\\\\n",
    "&= (5,-10,20) + (9,15,3) - (8,4,-12)\\\\\n",
    "&= (14,5,23) - (8,4,-12)\\\\\n",
    "&= (6,1,35)\n",
    "\\end{align*}\n",
    "$$\n",
    "*Pythonic Solution*"
   ]
  },
  {
   "cell_type": "code",
   "execution_count": 3,
   "metadata": {},
   "outputs": [
    {
     "name": "stdout",
     "output_type": "stream",
     "text": [
      "5u + 3v - 4w = [ 6  1 35]\n"
     ]
    }
   ],
   "source": [
    "import numpy as np\n",
    "u = np.array([1,-2,4])\n",
    "v = np.array([3,5,1])\n",
    "w = np.array([2,1,-3])\n",
    "print(\"5u + 3v - 4w =\",5*u + 3*v - 4*w)"
   ]
  },
  {
   "attachments": {},
   "cell_type": "markdown",
   "metadata": {},
   "source": [
    "#### c. $u \\cdotp v, v \\cdotp w, u \\cdotp w$\n",
    "*Manual Solution*\n",
    "$$\n",
    "\\begin{align*}\n",
    "u \\cdotp v &= 1(3) + -2(5) + 4(1)\\\\\n",
    "&= 3 + (-10) + 4\\\\\n",
    "&= -3\\\\\n",
    "v \\cdotp w &= 3(2) + 5(1) + 1(-3)\\\\\n",
    "&= 6 + 5 + (-3)\\\\\n",
    "&= 8\\\\\n",
    "u \\cdotp w &= 1(2) + -2(1) + 4(-3)\\\\\n",
    "&= 2 + (-2) + (-12)\\\\\n",
    "&= -12\\\\\n",
    "\\end{align*}\n",
    "$$\n",
    "*Pythonic Solution*"
   ]
  },
  {
   "cell_type": "code",
   "execution_count": 4,
   "metadata": {},
   "outputs": [
    {
     "name": "stdout",
     "output_type": "stream",
     "text": [
      "u.v = -3\n",
      "v.w = 8\n",
      "u.w = -12\n"
     ]
    }
   ],
   "source": [
    "import numpy as np\n",
    "u = np.array([1,-2,4])\n",
    "v = np.array([3,5,1])\n",
    "w = np.array([2,1,-3])\n",
    "print(\"u.v =\",u.dot(v))\n",
    "print(\"v.w =\",v.dot(w))\n",
    "print(\"u.w =\",u.dot(w))"
   ]
  },
  {
   "attachments": {},
   "cell_type": "markdown",
   "metadata": {},
   "source": [
    "#### d. $||u||, ||v||, ||w||$\n",
    "*Manual Solution*\n",
    "$$\n",
    "\\begin{align*}\n",
    "||u|| &= \\sqrt{1^2 + (-2)^2 + 4^2}\\\\\n",
    "&= \\sqrt{1 + 4 + 16}\\\\\n",
    "&= \\sqrt{21}\\\\\n",
    "||v|| &= \\sqrt{3^2 + 5^2 + 1^2}\\\\\n",
    "&= \\sqrt{9 + 25 + 1}\\\\\n",
    "&= \\sqrt{35}\\\\\n",
    "||w|| &= \\sqrt{2^2 + 1^2 + (-3)^2}\\\\\n",
    "&= \\sqrt{4 + 1 + 9}\\\\\n",
    "&= \\sqrt{14}\\\\\n",
    "\\end{align*}\n",
    "$$\n",
    "*Pythonic Solution*"
   ]
  },
  {
   "cell_type": "code",
   "execution_count": 5,
   "metadata": {},
   "outputs": [
    {
     "name": "stdout",
     "output_type": "stream",
     "text": [
      "||u|| = 4.58257569495584\n",
      "sqrt(21) = 4.58257569495584\n",
      "||v|| = 5.916079783099616\n",
      "sqrt(35) = 5.916079783099616\n",
      "||w|| = 3.7416573867739413\n",
      "sqrt(14) = 3.7416573867739413\n"
     ]
    }
   ],
   "source": [
    "import numpy as np\n",
    "u = np.array([1,-2,4])\n",
    "v = np.array([3,5,1])\n",
    "w = np.array([2,1,-3])\n",
    "print(\"||u|| =\",np.sqrt(u.dot(u)))\n",
    "print(\"sqrt(21) =\",np.sqrt(21))\n",
    "print(\"||v|| =\",np.sqrt(v.dot(v)))\n",
    "print(\"sqrt(35) =\",np.sqrt(35))\n",
    "print(\"||w|| =\",np.sqrt(w.dot(w)))\n",
    "print(\"sqrt(14) =\",np.sqrt(14))"
   ]
  },
  {
   "attachments": {},
   "cell_type": "markdown",
   "metadata": {},
   "source": [
    "#### e. If $\\theta$ is the angle between $u$ and $v$, find $\\cos$ $\\theta$\n",
    "*Manual Solution*\n",
    "$$\n",
    "\\begin{align*}\n",
    "\\cos \\theta &= \\frac{u\\cdotp v}{||u||\\,||v||}\\\\\n",
    "u \\cdotp v &= 1(3) + -2(5) + 4(1)\\\\\n",
    "&= 3 + (-10) + 4\\\\\n",
    "&= -3\\\\\n",
    "||u||\\,||v|| &= \\sqrt{1^2 + (-2)^2 + 4^2}\\,\\sqrt{3^2 + 5^2 + 1^2}\\\\\n",
    "&= \\sqrt{1 + 4 + 16}\\,\\sqrt{9 + 25 + 1}\\\\\n",
    "&= \\sqrt{21}\\,\\sqrt{35}\\\\\n",
    "\\cos \\theta &= \\frac{-3}{\\sqrt{21}\\,\\sqrt{35}}\\\\\n",
    "\\end{align*}\n",
    "$$\n",
    "*Pythonic Solution*"
   ]
  },
  {
   "cell_type": "code",
   "execution_count": 6,
   "metadata": {},
   "outputs": [
    {
     "name": "stdout",
     "output_type": "stream",
     "text": [
      "angle: -0.11065666703449763\n",
      "angle: -0.11065666703449763\n"
     ]
    }
   ],
   "source": [
    "import numpy as np\n",
    "u = np.array([1,-2,4])\n",
    "v = np.array([3,5,1])\n",
    "print(\"angle:\",u.dot(v)/(np.linalg.norm(u)*np.linalg.norm(v)))\n",
    "print(\"angle:\",-3/(np.sqrt(21)*np.sqrt(35)))\n"
   ]
  },
  {
   "cell_type": "markdown",
   "metadata": {},
   "source": [
    "#### f. If $\\alpha$ is the angle between $v$ and $w$, find $\\cos$ $\\alpha$\n",
    "*Manual Solution*\n",
    "$$\n",
    "\\begin{align*}\n",
    "\\cos \\alpha &= \\frac{v\\cdotp w}{||v||\\,||w||}\\\\\n",
    "v \\cdotp w &= 3(2) + 5(1) + 1(-3)\\\\\n",
    "&= 6 + 5 + (-3)\\\\\n",
    "&= 8\\\\\n",
    "||v||\\,||w|| &= \\sqrt{3^2 + 5^2 + 1^2}\\,\\sqrt{2^2 + 1^2 + (-3)^2}\\\\\n",
    "&= \\sqrt{9 + 25 + 1}\\,\\sqrt{4 + 1 + 9}\\\\\n",
    "&= \\sqrt{35}\\,\\sqrt{14}\\\\\n",
    "\\cos \\alpha &= \\frac{8}{\\sqrt{35}\\,\\sqrt{14}}\\\\\n",
    "\\end{align*}\n",
    "$$\n",
    "*Pythonic Solution*"
   ]
  },
  {
   "cell_type": "code",
   "execution_count": 1,
   "metadata": {},
   "outputs": [
    {
     "name": "stdout",
     "output_type": "stream",
     "text": [
      "angle: 0.36140316116210053\n",
      "angle: 0.36140316116210053\n"
     ]
    }
   ],
   "source": [
    "import numpy as np\n",
    "v = np.array([3,5,1])\n",
    "w = np.array([2,1,-3])\n",
    "print(\"angle:\",v.dot(w)/(np.linalg.norm(v)*np.linalg.norm(w)))\n",
    "print(\"angle:\",8/(np.sqrt(35)*np.sqrt(14)))"
   ]
  },
  {
   "cell_type": "markdown",
   "metadata": {},
   "source": [
    "#### g. If $\\beta$ is the angle between $v$ and $w$, find $\\cos$ $\\beta$\n",
    "*Manual Solution*\n",
    "$$\n",
    "\\begin{align*}\n",
    "\\cos \\beta &= \\frac{u\\cdotp w}{||u||\\,||w||}\\\\\n",
    "u \\cdotp w &= 1(2) + -2(1) + 4(-3)\\\\\n",
    "&= 2 + (-2) + (-12)\\\\\n",
    "&= -12\\\\\n",
    "||u||\\,||w|| &= \\sqrt{1^2 + -2^2 + 4^2}\\,\\sqrt{2^2 + 1^2 + (-3)^2}\\\\\n",
    "&= \\sqrt{1 + 4 + 16}\\,\\sqrt{4 + 1 + 9}\\\\\n",
    "&= \\sqrt{21}\\,\\sqrt{14}\\\\\n",
    "\\cos \\beta &= \\frac{-12}{\\sqrt{21}\\,\\sqrt{14}}\\\\\n",
    "\\end{align*}\n",
    "$$\n",
    "*Pythonic Solution*"
   ]
  },
  {
   "cell_type": "code",
   "execution_count": 2,
   "metadata": {},
   "outputs": [
    {
     "name": "stdout",
     "output_type": "stream",
     "text": [
      "angle: -0.6998542122237653\n",
      "angle: -0.6998542122237653\n"
     ]
    }
   ],
   "source": [
    "import numpy as np\n",
    "u = np.array([1,-2,4])\n",
    "w = np.array([2,1,-3])\n",
    "print(\"angle:\",u.dot(w)/(np.linalg.norm(u)*np.linalg.norm(w)))\n",
    "print(\"angle:\",-12/(np.sqrt(21)*np.sqrt(14)))"
   ]
  },
  {
   "cell_type": "markdown",
   "metadata": {},
   "source": [
    "#### h. Find $d(u,v).$\n",
    "*Manual Solution*\n",
    "$$\n",
    "\\begin{align*}\n",
    "d(u,v) &= ||u-v||\\\\\n",
    "&= \\sqrt{(1-3)^2+((-2)-5)^2+(4-1)^2}\\\\\n",
    "&= \\sqrt{(-2)^2+(-7)^2+(3)^2}\\\\\n",
    "&= \\sqrt{4+49+9}\\\\\n",
    "&= \\sqrt{62}\\\\\n",
    "\\end{align*}\n",
    "$$\n",
    "*Pythonic Solution*"
   ]
  },
  {
   "cell_type": "code",
   "execution_count": 4,
   "metadata": {},
   "outputs": [
    {
     "name": "stdout",
     "output_type": "stream",
     "text": [
      "d(u,v): 7.874007874011811\n",
      "d(u,v): 7.874007874011811\n"
     ]
    }
   ],
   "source": [
    "import numpy as np\n",
    "u = np.array([1, -2, 4])\n",
    "v = np.array([3, 5, 1])\n",
    "print(\"d(u,v):\", np.linalg.norm(u-v))\n",
    "print(\"d(u,v):\", np.sqrt(62))"
   ]
  },
  {
   "cell_type": "markdown",
   "metadata": {},
   "source": [
    "#### i. Find $d(w,v).$\n",
    "*Manual Solution*\n",
    "$$\n",
    "\\begin{align*}\n",
    "d(w,v) &= ||w-v||\\\\\n",
    "&= \\sqrt{(2-3)^2+(1-5)^2+((-3)-1)^2}\\\\\n",
    "&= \\sqrt{(-1)^2+(-4)^2+(-4)^2}\\\\\n",
    "&= \\sqrt{1+16+16}\\\\\n",
    "&= \\sqrt{33}\\\\\n",
    "\\end{align*}\n",
    "$$\n",
    "*Pythonic Solution*"
   ]
  },
  {
   "cell_type": "code",
   "execution_count": 6,
   "metadata": {},
   "outputs": [
    {
     "name": "stdout",
     "output_type": "stream",
     "text": [
      "d(w,v): 5.744562646538029\n",
      "d(w,v): 5.744562646538029\n"
     ]
    }
   ],
   "source": [
    "import numpy as np\n",
    "w = np.array([2,1,-3])\n",
    "v = np.array([3, 5, 1])\n",
    "print(\"d(w,v):\", np.linalg.norm(w-v))\n",
    "print(\"d(w,v):\", np.sqrt(33))"
   ]
  },
  {
   "cell_type": "markdown",
   "metadata": {},
   "source": [
    "#### j. Find $d(u,w).$\n",
    "*Manual Solution*\n",
    "$$\n",
    "\\begin{align*}\n",
    "d(u,w) &= ||u-w||\\\\\n",
    "&= \\sqrt{(1-2)^2+((-2)-1)^2+(4-(-3))^2}\\\\\n",
    "&= \\sqrt{(-1)^2+(-3)^2+(7)^2}\\\\\n",
    "&= \\sqrt{1+9+49}\\\\\n",
    "&= \\sqrt{59}\\\\\n",
    "\\end{align*}\n",
    "$$\n",
    "*Pythonic Solution*"
   ]
  },
  {
   "cell_type": "code",
   "execution_count": 7,
   "metadata": {},
   "outputs": [
    {
     "name": "stdout",
     "output_type": "stream",
     "text": [
      "d(u,w): 7.681145747868608\n",
      "d(u,w): 7.681145747868608\n"
     ]
    }
   ],
   "source": [
    "import numpy as np\n",
    "u = np.array([1, -2, 4])\n",
    "w = np.array([2,1,-3])\n",
    "print(\"d(u,w):\", np.linalg.norm(u-w))\n",
    "print(\"d(u,w):\", np.sqrt(59))"
   ]
  },
  {
   "cell_type": "markdown",
   "metadata": {},
   "source": [
    "#### k. Find $proj(u,v).$\n",
    "*Manual Solution*\n",
    "$$\n",
    "\\begin{align*}\n",
    "proj(u,v) &= \\frac{u \\cdotp v}{||v||^2}v\\\\\n",
    "&= \\frac{1(3)+(-2)5+4(1)}{(\\sqrt{(3)^2+(5)^2+(1)^2})^2}(3,5,1)\\\\\n",
    "&= \\frac{-3}{(\\sqrt{35})^2}(3,5,1)\\\\\n",
    "&= (\\frac{-9}{35},\\frac{-15}{35},\\frac{-3}{35})\\\\\n",
    "\\end{align*}\n",
    "$$\n",
    "*Pythonic Solution*"
   ]
  },
  {
   "cell_type": "code",
   "execution_count": 11,
   "metadata": {},
   "outputs": [
    {
     "name": "stdout",
     "output_type": "stream",
     "text": [
      "proj(u,v):  [-0.25714286 -0.42857143 -0.08571429]\n",
      "proj(u,v):  [-0.2571428571428571, -0.42857142857142855, -0.08571428571428572]\n"
     ]
    }
   ],
   "source": [
    "import numpy as np\n",
    "u = np.array([1, -2, 4])\n",
    "v = np.array([3, 5, 1])\n",
    "print(\"proj(u,v): \",u.dot(v)*v/(np.linalg.norm(v)**2) )\n",
    "print(\"proj(u,v): \",[-9/35,-15/35,-3/35] )"
   ]
  },
  {
   "cell_type": "markdown",
   "metadata": {},
   "source": [
    "#### l. Find $proj(w,v).$\n",
    "*Manual Solution*\n",
    "$$\n",
    "\\begin{align*}\n",
    "proj(w,v) &= \\frac{w \\cdotp v}{||v||^2}v\\\\\n",
    "&= \\frac{2(3)+1(5)+(-3)1}{(\\sqrt{(3)^2+(5)^2+(1)^2})^2}(3,5,1)\\\\\n",
    "&= \\frac{8}{(\\sqrt{35})^2}(3,5,1)\\\\\n",
    "&= (\\frac{24}{35},\\frac{40}{35},\\frac{8}{35})\\\\\n",
    "\\end{align*}\n",
    "$$\n",
    "*Pythonic Solution*"
   ]
  },
  {
   "cell_type": "code",
   "execution_count": 10,
   "metadata": {},
   "outputs": [
    {
     "name": "stdout",
     "output_type": "stream",
     "text": [
      "proj(u,v):  [0.68571429 1.14285714 0.22857143]\n",
      "proj(u,v):  [0.6857142857142857, 1.1428571428571428, 0.22857142857142856]\n"
     ]
    }
   ],
   "source": [
    "import numpy as np\n",
    "w = np.array([2,1,-3])\n",
    "v = np.array([3, 5, 1])\n",
    "print(\"proj(u,v): \",w.dot(v)*v/(np.linalg.norm(v)**2) )\n",
    "print(\"proj(u,v): \",[24/35,40/35,8/35] )"
   ]
  },
  {
   "cell_type": "markdown",
   "metadata": {},
   "source": [
    "#### m. Find $proj(u,w).$\n",
    "*Manual Solution*\n",
    "$$\n",
    "\\begin{align*}\n",
    "proj(u,v) &= \\frac{u \\cdotp v}{||v||^2}v\\\\\n",
    "&= \\frac{1(2)+(-2)1+4(-3)}{(\\sqrt{2^2 + 1^2 + (-3)^2})^2}(2,1,-3)\\\\\n",
    "&= \\frac{-12}{(\\sqrt{14})^2}(2,1,-3)\\\\\n",
    "&= \\frac{-6}{(\\sqrt{7})^2}(2,1,-3)\\\\\n",
    "&= (\\frac{-12}{7},\\frac{-6}{7},\\frac{18}{7})\\\\\n",
    "\\end{align*}\n",
    "$$\n",
    "*Pythonic Solution*"
   ]
  },
  {
   "cell_type": "code",
   "execution_count": 12,
   "metadata": {},
   "outputs": [
    {
     "name": "stdout",
     "output_type": "stream",
     "text": [
      "proj(u,v):  [-1.71428571 -0.85714286  2.57142857]\n",
      "proj(u,v):  [-1.7142857142857142, -0.8571428571428571, 2.5714285714285716]\n"
     ]
    }
   ],
   "source": [
    "import numpy as np\n",
    "u = np.array([1, -2, 4])\n",
    "w = np.array([2,1,-3])\n",
    "print(\"proj(u,v): \",u.dot(w)*w/(np.linalg.norm(w)**2) )\n",
    "print(\"proj(u,v): \",[-12/7,-6/7,18/7] )"
   ]
  }
 ],
 "metadata": {
  "kernelspec": {
   "display_name": "Python 3",
   "language": "python",
   "name": "python3"
  },
  "language_info": {
   "codemirror_mode": {
    "name": "ipython",
    "version": 3
   },
   "file_extension": ".py",
   "mimetype": "text/x-python",
   "name": "python",
   "nbconvert_exporter": "python",
   "pygments_lexer": "ipython3",
   "version": "3.11.5"
  },
  "orig_nbformat": 4
 },
 "nbformat": 4,
 "nbformat_minor": 2
}
