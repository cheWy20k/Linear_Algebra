{
 "cells": [
  {
   "attachments": {},
   "cell_type": "markdown",
   "metadata": {},
   "source": [
    "#### Enrico Julian U. Absin\n",
    "#### CS 3101N Group 2\n",
    "## Assignment 1 Answers\n",
    "### 1. Let  u = (1,-2,4) and v = (3,5,1) w = (2,1,-3) find:<br />\n",
    "#### a. $3u - 2v$\n",
    "*Manual Solution*\n",
    "$$\n",
    "\\begin{align*}\n",
    "3u - 2v &= 3(1,-2,4) - 2(3,5,1)\\\\\n",
    "&= 3(1,-2,4) - 2(3,5,1)\\\\\n",
    "&= (3,-6,12) - (6,10,2)\\\\\n",
    "&= (-3,-16,10)\n",
    "\\end{align*}\n",
    "$$\n",
    "*Pythonic Solution*"
   ]
  },
  {
   "cell_type": "code",
   "execution_count": 9,
   "metadata": {},
   "outputs": [
    {
     "name": "stdout",
     "output_type": "stream",
     "text": [
      "3u + 2v = [ -3 -16  10]\n"
     ]
    }
   ],
   "source": [
    "import numpy as np\n",
    "u = np.array([1, -2, 4])\n",
    "v = np.array([3, 5, 1])\n",
    "print(\"3u + 2v =\",3*u - 2*v)"
   ]
  },
  {
   "attachments": {},
   "cell_type": "markdown",
   "metadata": {},
   "source": [
    "#### b. $5u + 3v - 4w$\n",
    "*Manual Solution*\n",
    "$$\n",
    "\\begin{align*}\n",
    "5u + 3v - 4w &= 5(1,-2,4) + 3(3,5,1) - 4(2,1,-3)\\\\\n",
    "&= (5,-10,20) + (9,15,3) - (8,4,-12)\\\\\n",
    "&= (14,5,23) - (8,4,-12)\\\\\n",
    "&= (6,1,35)\n",
    "\\end{align*}\n",
    "$$\n",
    "*Pythonic Solution*"
   ]
  },
  {
   "cell_type": "code",
   "execution_count": 3,
   "metadata": {},
   "outputs": [
    {
     "name": "stdout",
     "output_type": "stream",
     "text": [
      "5u + 3v - 4w = [ 6  1 35]\n"
     ]
    }
   ],
   "source": [
    "import numpy as np\n",
    "u = np.array([1,-2,4])\n",
    "v = np.array([3,5,1])\n",
    "w = np.array([2,1,-3])\n",
    "print(\"5u + 3v - 4w =\",5*u + 3*v - 4*w)"
   ]
  },
  {
   "attachments": {},
   "cell_type": "markdown",
   "metadata": {},
   "source": [
    "#### c. $u \\cdotp v, v \\cdotp w, u \\cdotp w$\n",
    "*Manual Solution*\n",
    "$$\n",
    "\\begin{align*}\n",
    "u \\cdotp v &= 1(3) + -2(5) + 4(1)\\\\\n",
    "&= 3 + (-10) + 4\\\\\n",
    "&= -3\\\\\n",
    "v \\cdotp w &= 3(2) + 5(1) + 1(-3)\\\\\n",
    "&= 6 + 5 + (-3)\\\\\n",
    "&= 8\\\\\n",
    "u \\cdotp w &= 1(2) + -2(1) + 4(-3)\\\\\n",
    "&= 2 + (-2) + (-12)\\\\\n",
    "&= -12\\\\\n",
    "\\end{align*}\n",
    "$$\n",
    "*Pythonic Solution*"
   ]
  },
  {
   "cell_type": "code",
   "execution_count": 4,
   "metadata": {},
   "outputs": [
    {
     "name": "stdout",
     "output_type": "stream",
     "text": [
      "u.v = -3\n",
      "v.w = 8\n",
      "u.w = -12\n"
     ]
    }
   ],
   "source": [
    "import numpy as np\n",
    "u = np.array([1,-2,4])\n",
    "v = np.array([3,5,1])\n",
    "w = np.array([2,1,-3])\n",
    "print(\"u.v =\",u.dot(v))\n",
    "print(\"v.w =\",v.dot(w))\n",
    "print(\"u.w =\",u.dot(w))"
   ]
  },
  {
   "attachments": {},
   "cell_type": "markdown",
   "metadata": {},
   "source": [
    "#### d. $||u||, ||v||, ||w||$\n",
    "*Manual Solution*\n",
    "$$\n",
    "\\begin{align*}\n",
    "||u|| &= \\sqrt{1^2 + (-2)^2 + 4^2}\\\\\n",
    "&= \\sqrt{1 + 4 + 16}\\\\\n",
    "&= \\sqrt{21}\\\\\n",
    "||v|| &= \\sqrt{3^2 + 5^2 + 1^2}\\\\\n",
    "&= \\sqrt{9 + 25 + 1}\\\\\n",
    "&= \\sqrt{35}\\\\\n",
    "||w|| &= \\sqrt{2^2 + 1^2 + (-3)^2}\\\\\n",
    "&= \\sqrt{4 + 1 + 9}\\\\\n",
    "&= \\sqrt{14}\\\\\n",
    "\\end{align*}\n",
    "$$\n",
    "*Pythonic Solution*"
   ]
  },
  {
   "cell_type": "code",
   "execution_count": 5,
   "metadata": {},
   "outputs": [
    {
     "name": "stdout",
     "output_type": "stream",
     "text": [
      "||u|| = 4.58257569495584\n",
      "sqrt(21) = 4.58257569495584\n",
      "||v|| = 5.916079783099616\n",
      "sqrt(35) = 5.916079783099616\n",
      "||w|| = 3.7416573867739413\n",
      "sqrt(14) = 3.7416573867739413\n"
     ]
    }
   ],
   "source": [
    "import numpy as np\n",
    "u = np.array([1,-2,4])\n",
    "v = np.array([3,5,1])\n",
    "w = np.array([2,1,-3])\n",
    "print(\"||u|| =\",np.sqrt(u.dot(u)))\n",
    "print(\"sqrt(21) =\",np.sqrt(21))\n",
    "print(\"||v|| =\",np.sqrt(v.dot(v)))\n",
    "print(\"sqrt(35) =\",np.sqrt(35))\n",
    "print(\"||w|| =\",np.sqrt(w.dot(w)))\n",
    "print(\"sqrt(14) =\",np.sqrt(14))"
   ]
  },
  {
   "attachments": {},
   "cell_type": "markdown",
   "metadata": {},
   "source": [
    "#### e. If $\\theta$ is the angle between $u$ and $v$, find $\\cos$ $\\theta$\n",
    "*Manual Solution*\n",
    "$$\n",
    "\\begin{align*}\n",
    "\\cos \\theta &= \\frac{u\\cdotp v}{||u||\\,||v||}\\\\\n",
    "u \\cdotp v &= 1(3) + -2(5) + 4(1)\\\\\n",
    "&= 3 + (-10) + 4\\\\\n",
    "&= -3\\\\\n",
    "||u||\\,||v|| &= \\sqrt{1^2 + (-2)^2 + 4^2}\\,\\sqrt{3^2 + 5^2 + 1^2}\\\\\n",
    "&= \\sqrt{1 + 4 + 16}\\,\\sqrt{9 + 25 + 1}\\\\\n",
    "&= \\sqrt{21}\\,\\sqrt{35}\\\\\n",
    "\\cos \\theta &= \\frac{-3}{\\sqrt{21}\\,\\sqrt{35}}\\\\\n",
    "\\end{align*}\n",
    "$$\n",
    "*Pythonic Solution*"
   ]
  },
  {
   "cell_type": "code",
   "execution_count": 12,
   "metadata": {},
   "outputs": [
    {
     "name": "stdout",
     "output_type": "stream",
     "text": [
      "angle: -0.11065666703449763\n",
      "angle: -0.11065666703449763\n"
     ]
    }
   ],
   "source": [
    "import numpy as np\n",
    "u = np.array([1,-2,4])\n",
    "v = np.array([3,5,1])\n",
    "print(\"angle:\",u.dot(v)/(np.linalg.norm(u)*np.linalg.norm(v)))\n",
    "print(\"angle:\",-3/(np.sqrt(21)*np.sqrt(35)))\n"
   ]
  },
  {
   "cell_type": "markdown",
   "metadata": {},
   "source": [
    "#### f. If $\\alpha$ is the angle between $v$ and $w$, find $\\cos$ $\\alpha$\n",
    "*Manual Solution*\n",
    "$$\n",
    "\\begin{align*}\n",
    "\\cos \\alpha &= \\frac{v\\cdotp w}{||v||\\,||w||}\\\\\n",
    "v \\cdotp w &= 3(2) + 5(1) + 1(-3)\\\\\n",
    "&= 6 + 5 + (-3)\\\\\n",
    "&= 8\\\\\n",
    "||v||\\,||w|| &= \\sqrt{3^2 + 5^2 + 1^2}\\,\\sqrt{2^2 + 1^2 + (-3)^2}\\\\\n",
    "&= \\sqrt{9 + 25 + 1}\\,\\sqrt{4 + 1 + 9}\\\\\n",
    "&= \\sqrt{35}\\,\\sqrt{14}\\\\\n",
    "\\cos \\alpha &= \\frac{8}{\\sqrt{35}\\,\\sqrt{14}}\\\\\n",
    "\\end{align*}\n",
    "$$\n",
    "*Pythonic Solution*"
   ]
  },
  {
   "cell_type": "code",
   "execution_count": 1,
   "metadata": {},
   "outputs": [
    {
     "name": "stdout",
     "output_type": "stream",
     "text": [
      "angle: 0.36140316116210053\n",
      "angle: 0.36140316116210053\n"
     ]
    }
   ],
   "source": [
    "import numpy as np\n",
    "v = np.array([3,5,1])\n",
    "w = np.array([2,1,-3])\n",
    "print(\"angle:\",v.dot(w)/(np.linalg.norm(v)*np.linalg.norm(w)))\n",
    "print(\"angle:\",8/(np.sqrt(35)*np.sqrt(14)))"
   ]
  },
  {
   "cell_type": "markdown",
   "metadata": {},
   "source": [
    "#### g. If $\\beta$ is the angle between $u$ and $w$, find $\\cos$ $\\beta$\n",
    "*Manual Solution*\n",
    "$$\n",
    "\\begin{align*}\n",
    "\\cos \\beta &= \\frac{u\\cdotp w}{||u||\\,||w||}\\\\\n",
    "u \\cdotp w &= 1(2) + -2(1) + 4(-3)\\\\\n",
    "&= 2 + (-2) + (-12)\\\\\n",
    "&= -12\\\\\n",
    "||u||\\,||w|| &= \\sqrt{1^2 + -2^2 + 4^2}\\,\\sqrt{2^2 + 1^2 + (-3)^2}\\\\\n",
    "&= \\sqrt{1 + 4 + 16}\\,\\sqrt{4 + 1 + 9}\\\\\n",
    "&= \\sqrt{21}\\,\\sqrt{14}\\\\\n",
    "\\cos \\beta &= \\frac{-12}{\\sqrt{21}\\,\\sqrt{14}}\\\\\n",
    "\\end{align*}\n",
    "$$\n",
    "*Pythonic Solution*"
   ]
  },
  {
   "cell_type": "code",
   "execution_count": 2,
   "metadata": {},
   "outputs": [
    {
     "name": "stdout",
     "output_type": "stream",
     "text": [
      "angle: -0.6998542122237653\n",
      "angle: -0.6998542122237653\n"
     ]
    }
   ],
   "source": [
    "import numpy as np\n",
    "u = np.array([1,-2,4])\n",
    "w = np.array([2,1,-3])\n",
    "print(\"angle:\",u.dot(w)/(np.linalg.norm(u)*np.linalg.norm(w)))\n",
    "print(\"angle:\",-12/(np.sqrt(21)*np.sqrt(14)))"
   ]
  },
  {
   "cell_type": "markdown",
   "metadata": {},
   "source": [
    "#### h. Find $d(u,v).$\n",
    "*Manual Solution*\n",
    "$$\n",
    "\\begin{align*}\n",
    "d(u,v) &= ||u-v||\\\\\n",
    "&= \\sqrt{(1-3)^2+((-2)-5)^2+(4-1)^2}\\\\\n",
    "&= \\sqrt{(-2)^2+(-7)^2+(3)^2}\\\\\n",
    "&= \\sqrt{4+49+9}\\\\\n",
    "&= \\sqrt{62}\\\\\n",
    "\\end{align*}\n",
    "$$\n",
    "*Pythonic Solution*"
   ]
  },
  {
   "cell_type": "code",
   "execution_count": 4,
   "metadata": {},
   "outputs": [
    {
     "name": "stdout",
     "output_type": "stream",
     "text": [
      "d(u,v): 7.874007874011811\n",
      "d(u,v): 7.874007874011811\n"
     ]
    }
   ],
   "source": [
    "import numpy as np\n",
    "u = np.array([1, -2, 4])\n",
    "v = np.array([3, 5, 1])\n",
    "print(\"d(u,v):\", np.linalg.norm(u-v))\n",
    "print(\"d(u,v):\", np.sqrt(62))"
   ]
  },
  {
   "cell_type": "markdown",
   "metadata": {},
   "source": [
    "#### i. Find $d(w,v).$\n",
    "*Manual Solution*\n",
    "$$\n",
    "\\begin{align*}\n",
    "d(w,v) &= ||w-v||\\\\\n",
    "&= \\sqrt{(2-3)^2+(1-5)^2+((-3)-1)^2}\\\\\n",
    "&= \\sqrt{(-1)^2+(-4)^2+(-4)^2}\\\\\n",
    "&= \\sqrt{1+16+16}\\\\\n",
    "&= \\sqrt{33}\\\\\n",
    "\\end{align*}\n",
    "$$\n",
    "*Pythonic Solution*"
   ]
  },
  {
   "cell_type": "code",
   "execution_count": 6,
   "metadata": {},
   "outputs": [
    {
     "name": "stdout",
     "output_type": "stream",
     "text": [
      "d(w,v): 5.744562646538029\n",
      "d(w,v): 5.744562646538029\n"
     ]
    }
   ],
   "source": [
    "import numpy as np\n",
    "w = np.array([2,1,-3])\n",
    "v = np.array([3, 5, 1])\n",
    "print(\"d(w,v):\", np.linalg.norm(w-v))\n",
    "print(\"d(w,v):\", np.sqrt(33))"
   ]
  },
  {
   "cell_type": "markdown",
   "metadata": {},
   "source": [
    "#### j. Find $d(u,w).$\n",
    "*Manual Solution*\n",
    "$$\n",
    "\\begin{align*}\n",
    "d(u,w) &= ||u-w||\\\\\n",
    "&= \\sqrt{(1-2)^2+((-2)-1)^2+(4-(-3))^2}\\\\\n",
    "&= \\sqrt{(-1)^2+(-3)^2+(7)^2}\\\\\n",
    "&= \\sqrt{1+9+49}\\\\\n",
    "&= \\sqrt{59}\\\\\n",
    "\\end{align*}\n",
    "$$\n",
    "*Pythonic Solution*"
   ]
  },
  {
   "cell_type": "code",
   "execution_count": 7,
   "metadata": {},
   "outputs": [
    {
     "name": "stdout",
     "output_type": "stream",
     "text": [
      "d(u,w): 7.681145747868608\n",
      "d(u,w): 7.681145747868608\n"
     ]
    }
   ],
   "source": [
    "import numpy as np\n",
    "u = np.array([1, -2, 4])\n",
    "w = np.array([2,1,-3])\n",
    "print(\"d(u,w):\", np.linalg.norm(u-w))\n",
    "print(\"d(u,w):\", np.sqrt(59))"
   ]
  },
  {
   "cell_type": "markdown",
   "metadata": {},
   "source": [
    "#### k. Find $proj(u,v).$\n",
    "*Manual Solution*\n",
    "$$\n",
    "\\begin{align*}\n",
    "proj(u,v) &= \\frac{u \\cdotp v}{||v||^2}v\\\\\n",
    "&= \\frac{1(3)+(-2)5+4(1)}{(\\sqrt{(3)^2+(5)^2+(1)^2})^2}(3,5,1)\\\\\n",
    "&= \\frac{-3}{(\\sqrt{35})^2}(3,5,1)\\\\\n",
    "&= (\\frac{-9}{35},\\frac{-15}{35},\\frac{-3}{35})\\\\\n",
    "\\end{align*}\n",
    "$$\n",
    "*Pythonic Solution*"
   ]
  },
  {
   "cell_type": "code",
   "execution_count": 30,
   "metadata": {},
   "outputs": [
    {
     "name": "stdout",
     "output_type": "stream",
     "text": [
      "proj(u,v):  [-0.25714286 -0.42857143 -0.08571429]\n",
      "proj(u,v):  [-0.2571428571428571, -0.42857142857142855, -0.08571428571428572]\n"
     ]
    }
   ],
   "source": [
    "import numpy as np\n",
    "u = np.array([1, -2, 4])\n",
    "v = np.array([3, 5, 1])\n",
    "print(\"proj(u,v): \",u.dot(v)*v/(np.linalg.norm(v)**2))\n",
    "print(\"proj(u,v): \",[-9/35,-15/35,-3/35])"
   ]
  },
  {
   "cell_type": "markdown",
   "metadata": {},
   "source": [
    "#### l. Find $proj(w,v).$\n",
    "*Manual Solution*\n",
    "$$\n",
    "\\begin{align*}\n",
    "proj(w,v) &= \\frac{w \\cdotp v}{||v||^2}v\\\\\n",
    "&= \\frac{2(3)+1(5)+(-3)1}{(\\sqrt{(3)^2+(5)^2+(1)^2})^2}(3,5,1)\\\\\n",
    "&= \\frac{8}{(\\sqrt{35})^2}(3,5,1)\\\\\n",
    "&= (\\frac{24}{35},\\frac{40}{35},\\frac{8}{35})\\\\\n",
    "\\end{align*}\n",
    "$$\n",
    "*Pythonic Solution*"
   ]
  },
  {
   "cell_type": "code",
   "execution_count": 29,
   "metadata": {},
   "outputs": [
    {
     "name": "stdout",
     "output_type": "stream",
     "text": [
      "proj(u,v):  [0.68571429 1.14285714 0.22857143]\n",
      "proj(u,v):  [0.6857142857142857, 1.1428571428571428, 0.22857142857142856]\n"
     ]
    }
   ],
   "source": [
    "import numpy as np\n",
    "w = np.array([2,1,-3])\n",
    "v = np.array([3, 5, 1])\n",
    "print(\"proj(u,v): \",w.dot(v)*v/(np.linalg.norm(v)**2))\n",
    "print(\"proj(u,v): \",[24/35,40/35,8/35])"
   ]
  },
  {
   "cell_type": "markdown",
   "metadata": {},
   "source": [
    "#### m. Find $proj(u,w).$\n",
    "*Manual Solution*\n",
    "$$\n",
    "\\begin{align*}\n",
    "proj(u,w) &= \\frac{u \\cdotp w}{||w||^2}v\\\\\n",
    "&= \\frac{1(2)+(-2)1+4(-3)}{(\\sqrt{2^2 + 1^2 + (-3)^2})^2}(2,1,-3)\\\\\n",
    "&= \\frac{-12}{(\\sqrt{14})^2}(2,1,-3)\\\\\n",
    "&= \\frac{-6}{(\\sqrt{7})^2}(2,1,-3)\\\\\n",
    "&= (\\frac{-12}{7},\\frac{-6}{7},\\frac{18}{7})\\\\\n",
    "\\end{align*}\n",
    "$$\n",
    "*Pythonic Solution*"
   ]
  },
  {
   "cell_type": "code",
   "execution_count": 28,
   "metadata": {},
   "outputs": [
    {
     "name": "stdout",
     "output_type": "stream",
     "text": [
      "proj(u,v):  [-1.71428571 -0.85714286  2.57142857]\n",
      "proj(u,v):  [-1.7142857142857142, -0.8571428571428571, 2.5714285714285716]\n"
     ]
    }
   ],
   "source": [
    "import numpy as np\n",
    "u = np.array([1, -2, 4])\n",
    "w = np.array([2,1,-3])\n",
    "print(\"proj(u,v): \",u.dot(w)*w/(np.linalg.norm(w)**2))\n",
    "print(\"proj(u,v): \",[-12/7,-6/7,18/7])"
   ]
  },
  {
   "cell_type": "markdown",
   "metadata": {},
   "source": [
    "### 2. Repeat problem 1 with the following column vectors:\n",
    "$$\n",
    "u = \\begin{bmatrix} 1 \\\\ 3 \\\\ -4 \\end{bmatrix}, \n",
    "v = \\begin{bmatrix} 2 \\\\ 1 \\\\ 5 \\end{bmatrix}, \n",
    "w = \\begin{bmatrix} 3 \\\\ -2 \\\\ 6 \\end{bmatrix}\n",
    "$$\n",
    "#### a. $3u - 2v$\n",
    "*Manual Solution*\n",
    "$$\n",
    "3u - 2v = 3 \\begin{bmatrix} 1 \\\\ 3 \\\\ -4 \\end{bmatrix}\n",
    "- 2 \\begin{bmatrix} 2 \\\\ 1 \\\\ 5 \\end{bmatrix} = \n",
    "\\begin{bmatrix} 3 \\\\ 9 \\\\ -12 \\end{bmatrix} - \n",
    "\\begin{bmatrix} 4 \\\\ 2 \\\\ 10 \\end{bmatrix} = \n",
    "\\begin{bmatrix} -1 \\\\ 7 \\\\ -22 \\end{bmatrix}\n",
    "$$\n",
    "\n",
    "*Pythonic Solution*"
   ]
  },
  {
   "cell_type": "code",
   "execution_count": 4,
   "metadata": {},
   "outputs": [
    {
     "name": "stdout",
     "output_type": "stream",
     "text": [
      "3𝐮 - 2𝐯: [ -1   7 -22]\n"
     ]
    }
   ],
   "source": [
    "import numpy as np\n",
    "u = np.array([1,3,-4])\n",
    "v = np.array([2,1,5])\n",
    "print(\"3𝐮 - 2𝐯:\", (3*u) - (2*v))"
   ]
  },
  {
   "cell_type": "markdown",
   "metadata": {},
   "source": [
    "#### b. $5u + 3v - 4w$\n",
    "*Manual Solution*\n",
    "$$\n",
    "5u + 3v - 4w = 5 \\begin{bmatrix} 1 \\\\ 3 \\\\ -4 \\end{bmatrix}\n",
    "+ 3 \\begin{bmatrix} 2 \\\\ 1 \\\\ 5 \\end{bmatrix} \n",
    "- 4 \\begin{bmatrix} 3 \\\\ -2 \\\\ 6 \\end{bmatrix} = \n",
    "\\begin{bmatrix} 5 \\\\ 15 \\\\ -20 \\end{bmatrix} + \n",
    "\\begin{bmatrix} 6 \\\\ 3 \\\\ 15 \\end{bmatrix} -\n",
    "\\begin{bmatrix} 12 \\\\ -8 \\\\ 24 \\end{bmatrix} =\n",
    "\\begin{bmatrix} -1 \\\\ 26 \\\\ -29 \\end{bmatrix}\n",
    "$$\n",
    "\n",
    "*Pythonic Solution*"
   ]
  },
  {
   "cell_type": "code",
   "execution_count": 3,
   "metadata": {},
   "outputs": [
    {
     "name": "stdout",
     "output_type": "stream",
     "text": [
      "5u + 3v - 4w: [ -1  26 -29]\n"
     ]
    }
   ],
   "source": [
    "import numpy as np\n",
    "u = np.array([1,3,-4])\n",
    "v = np.array([2,1,5])\n",
    "w = np.array([3,-2,6])\n",
    "print(\"5u + 3v - 4w:\", (5*u) + (3*v) - (4*w))"
   ]
  },
  {
   "cell_type": "markdown",
   "metadata": {},
   "source": [
    "#### c. $u \\cdotp v, v \\cdotp w, u \\cdotp w$\n",
    "*Manual Solution*\n",
    "$$\n",
    "\\begin{align*}\n",
    "u \\cdotp v &= 1(2) + 3(1) + (-4)(5)\\\\\n",
    "&= 2 + 3 + (-20)\\\\\n",
    "&= -15\\\\\n",
    "v \\cdotp w &= 2(3) + 1(-2) + 5(6)\\\\\n",
    "&= 6 + (-2) + 30\\\\\n",
    "&= 34\\\\\n",
    "u \\cdotp w &= 1(3) + 3(-2) + (-4)(6)\\\\\n",
    "&= 3 + (-6) + (-24)\\\\\n",
    "&= -27\\\\\n",
    "\\end{align*}\n",
    "$$\n",
    "*Pythonic Solution*"
   ]
  },
  {
   "cell_type": "code",
   "execution_count": 5,
   "metadata": {},
   "outputs": [
    {
     "name": "stdout",
     "output_type": "stream",
     "text": [
      "u.v = -15\n",
      "v.w = 34\n",
      "u.w = -27\n"
     ]
    }
   ],
   "source": [
    "import numpy as np\n",
    "u = np.array([1,3,-4])\n",
    "v = np.array([2,1,5])\n",
    "w = np.array([3,-2,6])\n",
    "print(\"u.v =\",u.dot(v))\n",
    "print(\"v.w =\",v.dot(w))\n",
    "print(\"u.w =\",u.dot(w))"
   ]
  },
  {
   "cell_type": "markdown",
   "metadata": {},
   "source": [
    "#### d. $||u||, ||v||, ||w||$\n",
    "*Manual Solution*\n",
    "$$\n",
    "\\begin{align*}\n",
    "||u|| &= \\sqrt{1^2 + 3^2 + (-4)^2}\\\\\n",
    "&= \\sqrt{1 + 9 + 16}\\\\\n",
    "&= \\sqrt{26}\\\\\n",
    "||v|| &= \\sqrt{2^2 + 1^2 + 5^2}\\\\\n",
    "&= \\sqrt{4 + 1 + 25}\\\\\n",
    "&= \\sqrt{30}\\\\\n",
    "||w|| &= \\sqrt{3^2 + (-2)^2 + 6^2}\\\\\n",
    "&= \\sqrt{9 + 4 + 36}\\\\\n",
    "&= \\sqrt{49}\\\\\n",
    "&= 7\n",
    "\\end{align*}\n",
    "$$\n",
    "*Pythonic Solution*"
   ]
  },
  {
   "cell_type": "code",
   "execution_count": 7,
   "metadata": {},
   "outputs": [
    {
     "name": "stdout",
     "output_type": "stream",
     "text": [
      "||u|| = 5.0990195135927845\n",
      "sqrt(26) = 5.0990195135927845\n",
      "||v|| = 5.477225575051661\n",
      "sqrt(30) = 5.477225575051661\n",
      "||w|| = 7.0\n",
      "sqrt(49) = 7.0\n"
     ]
    }
   ],
   "source": [
    "import numpy as np\n",
    "u = np.array([1,3,-4])\n",
    "v = np.array([2,1,5])\n",
    "w = np.array([3,-2,6])\n",
    "print(\"||u|| =\",np.sqrt(u.dot(u)))\n",
    "print(\"sqrt(26) =\",np.sqrt(26))\n",
    "print(\"||v|| =\",np.sqrt(v.dot(v)))\n",
    "print(\"sqrt(30) =\",np.sqrt(30))\n",
    "print(\"||w|| =\",np.sqrt(w.dot(w)))\n",
    "print(\"sqrt(49) =\",np.sqrt(49))"
   ]
  },
  {
   "cell_type": "markdown",
   "metadata": {},
   "source": [
    "#### e. If $\\theta$ is the angle between $u$ and $v$, find $\\cos$ $\\theta$\n",
    "*Manual Solution*\n",
    "$$\n",
    "\\begin{align*}\n",
    "\\cos \\theta &= \\frac{u\\cdotp v}{||u||\\,||v||}\\\\\n",
    "u \\cdotp v &= 1(2) + 3(1) + (-4)(5)\\\\\n",
    "&= 2 + 3 + (-20)\\\\\n",
    "&= -15\\\\\n",
    "||u||\\,||v|| &= \\sqrt{1^2 + 3^2 + (-4)^2}\\,\\sqrt{2^2 + 1^2 + 5^2}\\\\\n",
    "&= \\sqrt{1 + 9 + 16}\\,\\sqrt{4 + 1 + 25}\\\\\n",
    "&= \\sqrt{26}\\,\\sqrt{30}\\\\\n",
    "\\cos \\theta &= \\frac{-15}{\\sqrt{26}\\,\\sqrt{30}}\\\\\n",
    "\\end{align*}\n",
    "$$\n",
    "*Pythonic Solution*"
   ]
  },
  {
   "cell_type": "code",
   "execution_count": 9,
   "metadata": {},
   "outputs": [
    {
     "name": "stdout",
     "output_type": "stream",
     "text": [
      "angle: -0.5370861555295747\n",
      "angle: -0.5370861555295747\n"
     ]
    }
   ],
   "source": [
    "import numpy as np\n",
    "u = np.array([1,3,-4])\n",
    "v = np.array([2,1,5])\n",
    "print(\"angle:\",u.dot(v)/(np.linalg.norm(u)*np.linalg.norm(v)))\n",
    "print(\"angle:\",-15/(np.sqrt(26)*np.sqrt(30)))"
   ]
  },
  {
   "cell_type": "markdown",
   "metadata": {},
   "source": [
    "#### f. If $\\alpha$ is the angle between $v$ and $w$, find $\\cos$ $\\alpha$\n",
    "*Manual Solution*\n",
    "$$\n",
    "\\begin{align*}\n",
    "\\cos \\alpha &= \\frac{v\\cdotp w}{||v||\\,||w||}\\\\\n",
    "v \\cdotp w &= 2(3) + 1(-2) + 5(6)\\\\\n",
    "&= 6 + (-2) + 30\\\\\n",
    "&= 34\\\\\n",
    "||v||\\,||w|| &= \\sqrt{2^2 + 1^2 + 5^2}\\,\\sqrt{3^2 + (-2)^2 + 6^2}\\\\\n",
    "&= \\sqrt{4 + 1 + 25}\\,\\sqrt{9 + 4 + 36}\\\\\n",
    "&= \\sqrt{30}\\,\\sqrt{49}\\\\\n",
    "\\cos \\alpha &= \\frac{34}{\\sqrt{30}\\,\\sqrt{49}}\\\\\n",
    "\\end{align*}\n",
    "$$\n",
    "*Pythonic Solution*"
   ]
  },
  {
   "cell_type": "code",
   "execution_count": 11,
   "metadata": {},
   "outputs": [
    {
     "name": "stdout",
     "output_type": "stream",
     "text": [
      "angle: 0.8867889026274118\n",
      "angle: 0.8867889026274118\n"
     ]
    }
   ],
   "source": [
    "import numpy as np\n",
    "v = np.array([2,1,5])\n",
    "w = np.array([3,-2,6])\n",
    "print(\"angle:\",v.dot(w)/(np.linalg.norm(v)*np.linalg.norm(w)))\n",
    "print(\"angle:\",34/(np.sqrt(30)*np.sqrt(49)))"
   ]
  },
  {
   "cell_type": "markdown",
   "metadata": {},
   "source": [
    "#### g. If $\\beta$ is the angle between $u$ and $w$, find $\\cos$ $\\beta$\n",
    "*Manual Solution*\n",
    "$$\n",
    "\\begin{align*}\n",
    "\\cos \\theta &= \\frac{u\\cdotp w}{||u||\\,||w||}\\\\\n",
    "u \\cdotp w &= 1(3) + 3(-2) + (-4)(6)\\\\\n",
    "&= 3 + (-6) + (-24)\\\\\n",
    "&= -27\\\\\n",
    "||u||\\,||w|| &= \\sqrt{1^2 + 3^2 + (-4)^2}\\,\\sqrt{3^2 + (-2)^2 + 6^2}\\\\\n",
    "&= \\sqrt{1 + 9 + 16}\\,\\sqrt{9 + 4 + 36}\\\\\n",
    "&= \\sqrt{26}\\,\\sqrt{49}\\\\\n",
    "\\cos \\theta &= \\frac{-27}{\\sqrt{26}\\,\\sqrt{49}}\\\\\n",
    "\\end{align*}\n",
    "$$\n",
    "*Pythonic Solution*"
   ]
  },
  {
   "cell_type": "code",
   "execution_count": 13,
   "metadata": {},
   "outputs": [
    {
     "name": "stdout",
     "output_type": "stream",
     "text": [
      "angle: -0.7564479498187099\n",
      "angle: -0.7564479498187099\n"
     ]
    }
   ],
   "source": [
    "import numpy as np\n",
    "u = np.array([1,3,-4])\n",
    "w = np.array([3,-2,6])\n",
    "print(\"angle:\",u.dot(w)/(np.linalg.norm(u)*np.linalg.norm(w)))\n",
    "print(\"angle:\",-27/(np.sqrt(26)*np.sqrt(49)))\n"
   ]
  },
  {
   "cell_type": "markdown",
   "metadata": {},
   "source": [
    "#### h. Find $d(u,v).$\n",
    "*Manual Solution*\n",
    "$$\n",
    "\\begin{align*}\n",
    "d(u,v) &= ||u-v||\\\\\n",
    "&= \\sqrt{(1-2)^2+(3-1)^2+(-4-5)^2}\\\\\n",
    "&= \\sqrt{(-1)^2+(2)^2+(-9)^2}\\\\\n",
    "&= \\sqrt{1+4+81}\\\\\n",
    "&= \\sqrt{86}\\\\\n",
    "\\end{align*}\n",
    "$$\n",
    "*Pythonic Solution*"
   ]
  },
  {
   "cell_type": "code",
   "execution_count": 51,
   "metadata": {},
   "outputs": [
    {
     "name": "stdout",
     "output_type": "stream",
     "text": [
      "d(u,v): 9.273618495495704\n",
      "sqrt(86): 9.273618495495704\n"
     ]
    }
   ],
   "source": [
    "import numpy as np\n",
    "u = np.array([1,3,-4])\n",
    "v = np.array([2,1,5])\n",
    "print(\"d(u,v):\", np.linalg.norm(u-v))\n",
    "print(\"sqrt(86):\", np.sqrt(86))"
   ]
  },
  {
   "cell_type": "markdown",
   "metadata": {},
   "source": [
    "#### i. Find $d(w,v).$\n",
    "*Manual Solution*\n",
    "$$\n",
    "\\begin{align*}\n",
    "d(w,v) &= ||w-v||\\\\\n",
    "&= \\sqrt{(3-2)^2+(-2-1)^2+(6-5)^2}\\\\\n",
    "&= \\sqrt{(1)^2+(-3)^2+(1)^2}\\\\\n",
    "&= \\sqrt{1+9+1}\\\\\n",
    "&= \\sqrt{11}\\\\\n",
    "\\end{align*}\n",
    "$$\n",
    "*Pythonic Solution*"
   ]
  },
  {
   "cell_type": "code",
   "execution_count": 52,
   "metadata": {},
   "outputs": [
    {
     "name": "stdout",
     "output_type": "stream",
     "text": [
      "d(w,v): 3.3166247903554\n",
      "sqrt(11): 3.3166247903554\n"
     ]
    }
   ],
   "source": [
    "import numpy as np\n",
    "w = np.array([3,-2,6])\n",
    "v = np.array([2,1,5])\n",
    "print(\"d(w,v):\", np.linalg.norm(w-v))\n",
    "print(\"sqrt(11):\", np.sqrt(11))"
   ]
  },
  {
   "cell_type": "markdown",
   "metadata": {},
   "source": [
    "#### j. Find $d(u,w).$\n",
    "*Manual Solution*\n",
    "$$\n",
    "\\begin{align*}\n",
    "d(u,w) &= ||u-w||\\\\\n",
    "&= \\sqrt{(1-3)^2+(3-(-2))^2+(-4-6)^2}\\\\\n",
    "&= \\sqrt{(-2)^2+(5)^2+(-10)^2}\\\\\n",
    "&= \\sqrt{4+25+100}\\\\\n",
    "&= \\sqrt{129}\\\\\n",
    "\\end{align*}\n",
    "$$\n",
    "*Pythonic Solution*"
   ]
  },
  {
   "cell_type": "code",
   "execution_count": 53,
   "metadata": {},
   "outputs": [
    {
     "name": "stdout",
     "output_type": "stream",
     "text": [
      "d(u,v): 11.357816691600547\n",
      "sqrt(129): 11.357816691600547\n"
     ]
    }
   ],
   "source": [
    "import numpy as np\n",
    "u = np.array([1,3,-4])\n",
    "w = np.array([3,-2,6])\n",
    "print(\"d(u,v):\", np.linalg.norm(u-w))\n",
    "print(\"sqrt(129):\", np.sqrt(129))"
   ]
  },
  {
   "cell_type": "markdown",
   "metadata": {},
   "source": [
    "#### k. Find $proj(u,v).$\n",
    "*Manual Solution*\n",
    "$$\n",
    "\\begin{align*}\n",
    "proj(u,v) &= \\frac{u \\cdotp v}{||v||^2}v\\\\\n",
    "&= \\frac{1(2)+3(1)+(-4)(5)}{(\\sqrt{(2)^2+(1)^2+(5)^2})^2}(2,1,5)\\\\\n",
    "&= \\frac{-15}{(\\sqrt{30})^2}(2,1,5)\\\\\n",
    "&= (\\frac{-30}{30},\\frac{-15}{30},\\frac{-75}{30})\\\\\n",
    "&= (-1,\\frac{-1}{2},\\frac{-5}{2})\\\\\n",
    "\\end{align*}\n",
    "$$\n",
    "*Pythonic Solution*"
   ]
  },
  {
   "cell_type": "code",
   "execution_count": 24,
   "metadata": {},
   "outputs": [
    {
     "name": "stdout",
     "output_type": "stream",
     "text": [
      "proj(u,v):  [-1.  -0.5 -2.5]\n",
      "proj(u,v):  [-1, -0.5, -2.5]\n"
     ]
    }
   ],
   "source": [
    "import numpy as np\n",
    "u = np.array([1,3,-4])\n",
    "v = np.array([2,1,5])\n",
    "print(\"proj(u,v): \",u.dot(v)*v/(np.linalg.norm(v)**2) )\n",
    "print(\"proj(u,v): \",[-1,-1/2,-5/2] )"
   ]
  },
  {
   "cell_type": "markdown",
   "metadata": {},
   "source": [
    "#### l. Find $proj(w,v).$\n",
    "*Manual Solution*\n",
    "$$\n",
    "\\begin{align*}\n",
    "proj(w,v) &= \\frac{w \\cdotp v}{||w||^2}v\\\\\n",
    "&= \\frac{3(2)+(-2)(1)+6(5)}{(\\sqrt{(2)^2+(1)^2+(5)^2})^2}(2,1,5)\\\\\n",
    "&= \\frac{34}{(\\sqrt{30})^2}(2,1,5)\\\\\n",
    "&= (\\frac{68}{30},\\frac{34}{30},\\frac{170}{30})\\\\\n",
    "&= (\\frac{34}{15},\\frac{17}{15},\\frac{85}{15})\\\\\n",
    "\\end{align*}\n",
    "$$\n",
    "*Pythonic Solution*"
   ]
  },
  {
   "cell_type": "code",
   "execution_count": 27,
   "metadata": {},
   "outputs": [
    {
     "name": "stdout",
     "output_type": "stream",
     "text": [
      "proj(u,v):  [2.26666667 1.13333333 5.66666667]\n",
      "proj(u,v):  [2.2666666666666666, 1.1333333333333333, 5.666666666666667]\n"
     ]
    }
   ],
   "source": [
    "import numpy as np\n",
    "w = np.array([3,-2,6])\n",
    "v = np.array([2,1,5])\n",
    "print(\"proj(u,v): \",w.dot(v)*v/(np.linalg.norm(v)**2))\n",
    "print(\"proj(u,v): \",[34/15,17/15,85/15])"
   ]
  },
  {
   "cell_type": "markdown",
   "metadata": {},
   "source": [
    "#### m. Find $proj(u,w).$\n",
    "*Manual Solution*\n",
    "$$\n",
    "\\begin{align*}\n",
    "proj(u,w) &= \\frac{u \\cdotp w}{||w||^2}w\\\\\n",
    "&= \\frac{1(3)+3(-2)+(-4)(6)}{(\\sqrt{(3)^2+(-2)^2+(6)^2})^2}(3,-2,6)\\\\\n",
    "&= \\frac{-27}{(\\sqrt{49})^2}(3,-2,6)\\\\\n",
    "&= (\\frac{-81}{49},\\frac{54}{49},\\frac{-162}{49})\\\\\n",
    "\\end{align*}\n",
    "$$\n",
    "*Pythonic Solution*"
   ]
  },
  {
   "cell_type": "code",
   "execution_count": 32,
   "metadata": {},
   "outputs": [
    {
     "name": "stdout",
     "output_type": "stream",
     "text": [
      "proj(u,v):  [-1.65306122  1.10204082 -3.30612245]\n",
      "proj(u,v):  [-1.653061224489796, 1.1020408163265305, -3.306122448979592]\n"
     ]
    }
   ],
   "source": [
    "import numpy as np\n",
    "u = np.array([1,3,-4])\n",
    "w = np.array([3,-2,6])\n",
    "print(\"proj(u,v): \",u.dot(w)*w/(np.linalg.norm(w)**2))\n",
    "print(\"proj(u,v): \",[-81/49,54/49,-162/49])"
   ]
  },
  {
   "cell_type": "markdown",
   "metadata": {},
   "source": [
    "### 3. Let  u = (2,-5,4,6,-3) and v = (5,-2,1,-7,-4) w = (2,1,-3) find:<br />\n",
    "#### a. $4u - 3v$\n",
    "*Manual Solution*\n",
    "$$\n",
    "\\begin{align*}\n",
    "4u - 3v &= 4(2,-5,4,6,-3) - 3(5,-2,1,-7,-4)\\\\\n",
    "&= (8,-20,16,24,-12) - (15,-6,3,-21,-12)\\\\\n",
    "&= (-7,-14,13,45,-24)\n",
    "\\end{align*}\n",
    "$$\n",
    "*Pythonic Solution*"
   ]
  },
  {
   "cell_type": "code",
   "execution_count": 3,
   "metadata": {},
   "outputs": [
    {
     "name": "stdout",
     "output_type": "stream",
     "text": [
      "4u - 3v = [ -7 -14  13  45   0]\n"
     ]
    }
   ],
   "source": [
    "import numpy as np\n",
    "u = np.array([2,-5,4,6,-3])\n",
    "v = np.array([5,-2,1,-7,-4])\n",
    "print(\"4u - 3v =\",4*u-3*v)"
   ]
  },
  {
   "cell_type": "markdown",
   "metadata": {},
   "source": [
    "#### b. $5u + 2v - 2w$\n",
    "*Manual Solution*\n",
    "$$\n",
    "\\begin{align*}\n",
    "5u + 2v - 2w &= 5(2,-5,4,6,-3) + 2(5,-2,1,-7,-4) - 2(2,1,-3)\\\\\n",
    "&= (10,-25,20,30,-15) + (10,-4,2,-14,-8) - (4,2,-6)\\\\\n",
    "&= (20,-29,22,16,-23) - (4,2,-6)\\\\\n",
    "&= (16,-31,28,16,-23)\n",
    "\\end{align*}\n",
    "$$\n",
    "*Pythonic Solution*"
   ]
  },
  {
   "cell_type": "code",
   "execution_count": 8,
   "metadata": {},
   "outputs": [
    {
     "name": "stdout",
     "output_type": "stream",
     "text": [
      "5u + 2v - 2w = [ 16 -31  28  16 -23]\n"
     ]
    }
   ],
   "source": [
    "import numpy as np\n",
    "u = np.array([2,-5,4,6,-3])\n",
    "v = np.array([5,-2,1,-7,-4])\n",
    "w = np.array([2,1,-3,0,0])\n",
    "print(\"5u + 2v - 2w =\", 5*u+2*v-2*w)"
   ]
  },
  {
   "cell_type": "markdown",
   "metadata": {},
   "source": [
    "#### c. $u \\cdotp v, v \\cdotp w, u \\cdotp w$\n",
    "*Manual Solution*\n",
    "$$\n",
    "\\begin{align*}\n",
    "u \\cdotp v &= 2(5) + (-5)(-2) + 4(1) + 6(-7) + (-3)(-4)\\\\\n",
    "&= 10 + 10 + 4 + (-42) + 12\\\\\n",
    "&= -6\\\\\n",
    "v \\cdotp w &= 5(2) + (-2)(1) + 1(-3) + (-7)(0) + (-4)(0)\\\\\n",
    "&= 10 + (-2) + (-3) + 0 + 0\\\\\n",
    "&= 5\\\\\n",
    "u \\cdotp w &= 2(2) + (-5)(1) + 4(-3) + 6(0) + (-3)(0)\\\\\n",
    "&= 4 + (-5) + (-12) + 0 + 0\\\\\n",
    "&= -13\\\\\n",
    "\\end{align*}\n",
    "$$\n",
    "*Pythonic Solution*"
   ]
  },
  {
   "cell_type": "code",
   "execution_count": 9,
   "metadata": {},
   "outputs": [
    {
     "name": "stdout",
     "output_type": "stream",
     "text": [
      "u.v = -6\n",
      "v.w = 5\n",
      "u.w = -13\n"
     ]
    }
   ],
   "source": [
    "import numpy as np\n",
    "u = np.array([2,-5,4,6,-3])\n",
    "v = np.array([5,-2,1,-7,-4])\n",
    "w = np.array([2,1,-3,0,0])\n",
    "print(\"u.v =\",u.dot(v))\n",
    "print(\"v.w =\",v.dot(w))\n",
    "print(\"u.w =\",u.dot(w))"
   ]
  },
  {
   "cell_type": "markdown",
   "metadata": {},
   "source": [
    "#### d. $||u||, ||v||, ||w||$\n",
    "*Manual Solution*\n",
    "$$\n",
    "\\begin{align*}\n",
    "||u|| &= \\sqrt{2^2 + (-5)^2 + 4^2 + 6^2 + (-3)^2}\\\\\n",
    "&= \\sqrt{4 + 25 + 16 + 36 + 9}\\\\\n",
    "&= \\sqrt{90}\\\\\n",
    "||v|| &= \\sqrt{5^2 + (-2)^2 + 1^2 + (-7)^2 + (-4)^2}\\\\\n",
    "&= \\sqrt{25 + 4 + 1 + 49 + 16}\\\\\n",
    "&= \\sqrt{95}\\\\\n",
    "||w|| &= \\sqrt{2^2 + 1^2 + (-3)^2}\\\\\n",
    "&= \\sqrt{4 + 1 + 9}\\\\\n",
    "&= \\sqrt{14}\\\\\n",
    "\\end{align*}\n",
    "$$\n",
    "*Pythonic Solution*"
   ]
  },
  {
   "cell_type": "code",
   "execution_count": 11,
   "metadata": {},
   "outputs": [
    {
     "name": "stdout",
     "output_type": "stream",
     "text": [
      "||u|| = 9.486832980505138\n",
      "sqrt(90) = 9.486832980505138\n",
      "||v|| = 9.746794344808963\n",
      "sqrt(95) = 9.746794344808963\n",
      "||w|| = 3.7416573867739413\n",
      "sqrt(14) = 3.7416573867739413\n"
     ]
    }
   ],
   "source": [
    "import numpy as np\n",
    "u = np.array([2,-5,4,6,-3])\n",
    "v = np.array([5,-2,1,-7,-4])\n",
    "w = np.array([2,1,-3,0,0])\n",
    "print(\"||u|| =\",np.sqrt(u.dot(u)))\n",
    "print(\"sqrt(90) =\",np.sqrt(90))\n",
    "print(\"||v|| =\",np.sqrt(v.dot(v)))\n",
    "print(\"sqrt(95) =\",np.sqrt(95))\n",
    "print(\"||w|| =\",np.sqrt(w.dot(w)))\n",
    "print(\"sqrt(14) =\",np.sqrt(14))"
   ]
  },
  {
   "cell_type": "markdown",
   "metadata": {},
   "source": [
    "#### e. If $\\theta$ is the angle between $u$ and $v$, find $\\cos$ $\\theta$\n",
    "*Manual Solution*\n",
    "$$\n",
    "\\begin{align*}\n",
    "\\cos \\theta &= \\frac{u\\cdotp v}{||u||\\,||v||}\\\\\n",
    "u \\cdotp v &= 2(5) + (-5)(-2) + 4(1) + 6(-7) + (-3)(-4)\\\\\n",
    "&= 10 + 10 + 4 + (-42) + 12\\\\\n",
    "&= -6\\\\\n",
    "||u||\\,||v|| &= \\sqrt{2^2 + (-5)^2 + 4^2 + 6^2 + (-3)^2}\\,\\sqrt{5^2 + (-2)^2 + 1^2 + (-7)^2 + (-4)^2}\\\\\n",
    "&= \\sqrt{4 + 25 + 16 + 36 + 9}\\,\\sqrt{25 + 4 + 1 + 49 + 16}\\\\\n",
    "&= \\sqrt{90}\\,\\sqrt{95}\\\\\n",
    "\\cos \\theta &= \\frac{-6}{\\sqrt{90}\\,\\sqrt{95}}\\\\\n",
    "\\end{align*}\n",
    "$$\n",
    "*Pythonic Solution*"
   ]
  },
  {
   "cell_type": "code",
   "execution_count": 14,
   "metadata": {},
   "outputs": [
    {
     "name": "stdout",
     "output_type": "stream",
     "text": [
      "angle: -0.06488856845230502\n",
      "angle: -0.06488856845230502\n"
     ]
    }
   ],
   "source": [
    "import numpy as np\n",
    "u = np.array([2,-5,4,6,-3])\n",
    "v = np.array([5,-2,1,-7,-4])\n",
    "print(\"angle:\",u.dot(v)/(np.linalg.norm(u)*np.linalg.norm(v)))\n",
    "print(\"angle:\",-6/(np.sqrt(90)*np.sqrt(95)))"
   ]
  },
  {
   "cell_type": "markdown",
   "metadata": {},
   "source": [
    "#### f. If $\\alpha$ is the angle between $v$ and $w$, find $\\cos$ $\\alpha$\n",
    "*Manual Solution*\n",
    "$$\n",
    "\\begin{align*}\n",
    "\\cos \\alpha &= \\frac{v\\cdotp w}{||v||\\,||w||}\\\\\n",
    "v \\cdotp w &= 5(2) + (-2)(1) + 1(-3) + (-7)(0) + (-4)(0)\\\\\n",
    "&= 10 + (-2) + (-3) + 0 + 0\\\\\n",
    "&= 5\\\\\n",
    "||v||\\,||w|| &= \\sqrt{5^2 + (-2)^2 + 1^2 + (-7)^2 + (-4)^2}\\,\\sqrt{2^2 + 1^2 + (-3)^2}\\\\\n",
    "&= \\sqrt{25 + 4 + 1 + 49 + 16}\\,\\sqrt{4 + 1 + 9}\\\\\n",
    "&= \\sqrt{95}\\,\\sqrt{14}\\\\\n",
    "\\cos \\alpha &= \\frac{5}{\\sqrt{95}\\,\\sqrt{14}}\\\\\n",
    "\\end{align*}\n",
    "$$\n",
    "*Pythonic Solution*"
   ]
  },
  {
   "cell_type": "code",
   "execution_count": 19,
   "metadata": {},
   "outputs": [
    {
     "name": "stdout",
     "output_type": "stream",
     "text": [
      "angle: 0.13710212427677046\n",
      "angle: 0.13710212427677046\n"
     ]
    }
   ],
   "source": [
    "import numpy as np\n",
    "v = np.array([5,-2,1,-7,-4])\n",
    "w = np.array([2,1,-3,0,0])\n",
    "print(\"angle:\",v.dot(w)/(np.linalg.norm(v)*np.linalg.norm(w)))\n",
    "print(\"angle:\",5/(np.sqrt(95)*np.sqrt(14)))"
   ]
  },
  {
   "cell_type": "markdown",
   "metadata": {},
   "source": [
    "#### g. If $\\beta$ is the angle between $u$ and $w$, find $\\cos$ $\\beta$\n",
    "*Manual Solution*\n",
    "$$\n",
    "\\begin{align*}\n",
    "\\cos \\beta &= \\frac{u\\cdotp w}{||u||\\,||w||}\\\\\n",
    "u \\cdotp w &= 2(2) + (-5)(1) + 4(-3) + 6(0) + (-3)(0)\\\\\n",
    "&= 4 + (-5) + (-12) + 0 + 0\\\\\n",
    "&= -13\\\\\n",
    "||u||\\,||w|| &= \\sqrt{2^2 + (-5)^2 + 4^2 + 6^2 + (-3)^2}\\,\\sqrt{2^2 + 1^2 + (-3)^2}\\\\\n",
    "&= \\sqrt{4 + 25 + 16 + 36 + 9}\\,\\sqrt{4 + 1 + 9}\\\\\n",
    "&= \\sqrt{90}\\,\\sqrt{14}\\\\\n",
    "\\cos \\beta &= \\frac{-13}{\\sqrt{90}\\,\\sqrt{14}}\\\\\n",
    "\\end{align*}\n",
    "$$\n",
    "*Pythonic Solution*"
   ]
  },
  {
   "cell_type": "code",
   "execution_count": 17,
   "metadata": {},
   "outputs": [
    {
     "name": "stdout",
     "output_type": "stream",
     "text": [
      "angle: -0.3662335103823572\n",
      "angle: -0.3662335103823572\n"
     ]
    }
   ],
   "source": [
    "import numpy as np\n",
    "u = np.array([2,-5,4,6,-3])\n",
    "w = np.array([2,1,-3,0,0])\n",
    "print(\"angle:\",u.dot(w)/(np.linalg.norm(u)*np.linalg.norm(w)))\n",
    "print(\"angle:\",-13/(np.sqrt(90)*np.sqrt(14)))"
   ]
  },
  {
   "cell_type": "markdown",
   "metadata": {},
   "source": [
    "#### h. Find $d(u,v).$\n",
    "*Manual Solution*\n",
    "$$\n",
    "\\begin{align*}\n",
    "d(u,v) &= ||u-v||\\\\\n",
    "\\sqrt{(2 - 5)^2 + (-5 - (-2))^2 + (4 - 1)^2 + (6 - (-7))^2 + (-3 - (-4))^2}\\\\\n",
    "&= \\sqrt{9 + 9 + 9 + 169 + 1}\\\\\n",
    "&= \\sqrt{197}\\\\\n",
    "\\end{align*}\n",
    "$$\n"
   ]
  },
  {
   "cell_type": "code",
   "execution_count": 48,
   "metadata": {},
   "outputs": [
    {
     "name": "stdout",
     "output_type": "stream",
     "text": [
      "d(u,v): 14.035668847618199\n",
      "sqrt(197): 14.035668847618199\n"
     ]
    }
   ],
   "source": [
    "import numpy as np\n",
    "u = np.array([2,-5,4,6,-3])\n",
    "v = np.array([5,-2,1,-7,-4])\n",
    "print(\"d(u,v):\", np.linalg.norm(u-v))\n",
    "print(\"sqrt(197):\", np.sqrt(197))"
   ]
  },
  {
   "cell_type": "markdown",
   "metadata": {},
   "source": [
    "#### i. Find $d(w,v).$\n",
    "*Manual Solution*\n",
    "$$\n",
    "\\begin{align*}\n",
    "d(w,v) &= ||w-v||\\\\\n",
    "&= \\sqrt{(2 - 5)^2 + (1 - (-2))^2 + (-3 - 1)^2 + (-7)^2 + (-4)^2}\\\\\n",
    "&= \\sqrt{9 + 9 + 16 + 49 + 16}\\\\\n",
    "&= \\sqrt{99}\\\\\n",
    "\\end{align*}\n",
    "$$\n",
    "*Pythonic Solution*"
   ]
  },
  {
   "cell_type": "code",
   "execution_count": 49,
   "metadata": {},
   "outputs": [
    {
     "name": "stdout",
     "output_type": "stream",
     "text": [
      "d(v,w): 9.9498743710662\n",
      "sqrt(99) 9.9498743710662\n"
     ]
    }
   ],
   "source": [
    "import numpy as np\n",
    "w = np.array([2,1,-3,0,0])\n",
    "v = np.array([5,-2,1,-7,-4])\n",
    "print(\"d(v,w):\", np.linalg.norm(w-v))\n",
    "print(\"sqrt(99)\", np.sqrt(99))"
   ]
  },
  {
   "cell_type": "markdown",
   "metadata": {},
   "source": [
    "#### j. Find $d(u,w).$\n",
    "*Manual Solution*\n",
    "$$\n",
    "\\begin{align*}\n",
    "d(u,w) &= ||u-w||\\\\\n",
    "&=\\sqrt{(2 - 2)^2 + (-5 - 1)^2 + (4 - (-3))^2 + (6)^2 + (-3)^2}\\\\\n",
    "&= \\sqrt{0 + 36 + 49 + 36 + 9}\\\\\n",
    "&= \\sqrt{130}\\\\\n",
    "\\end{align*}\n",
    "$$"
   ]
  },
  {
   "cell_type": "code",
   "execution_count": 50,
   "metadata": {},
   "outputs": [
    {
     "name": "stdout",
     "output_type": "stream",
     "text": [
      "d(u,w): 11.40175425099138\n",
      "sqrt(130) 11.40175425099138\n"
     ]
    }
   ],
   "source": [
    "import numpy as np\n",
    "u = np.array([2,-5,4,6,-3])\n",
    "w = np.array([2,1,-3,0,0])\n",
    "print(\"d(u,w):\", np.linalg.norm(u-w))\n",
    "print(\"sqrt(130)\", np.sqrt(130))"
   ]
  },
  {
   "cell_type": "markdown",
   "metadata": {},
   "source": [
    "#### k. Find $proj(u,v).$\n",
    "*Manual Solution*\n",
    "$$\n",
    "\\begin{align*}\n",
    "proj(u,v) &= \\frac{u \\cdotp v}{||v||^2}v\\\\\n",
    "&= \\frac{2(5)+(-5)(-2)+4(1)+6(-7)+(-3)(-4)}{(\\sqrt{5^2 + (-2)^2 + 1^2 + (-7)^2 + (-4)^2})^2}(5,-2,1,-7,-4)\\\\\n",
    "&= \\frac{-6}{(\\sqrt{95})^2}(5,-2,1,-7,-4)\\\\\n",
    "&= (\\frac{-6}{19},\\frac{12}{95},\\frac{-6}{95},\\frac{42}{95},\\frac{24}{95})\n",
    "\\end{align*}\n",
    "$$\n",
    "*Pythonic Solution*"
   ]
  },
  {
   "cell_type": "code",
   "execution_count": 29,
   "metadata": {},
   "outputs": [
    {
     "name": "stdout",
     "output_type": "stream",
     "text": [
      "proj(u,v): [-0.31578947  0.12631579 -0.06315789  0.44210526  0.25263158]\n",
      "proj(u,v): [-0.3157894736842105, 0.12631578947368421, -0.06315789473684211, 0.4421052631578947, 0.25263157894736843]\n"
     ]
    }
   ],
   "source": [
    "import numpy as np\n",
    "u = np.array([2,-5,4,6,-3])\n",
    "v = np.array([5,-2,1,-7,-4])\n",
    "print(\"proj(u,v):\", u.dot(v)*v/(np.linalg.norm(v)**2))\n",
    "print(\"proj(u,v):\", [(-6)/19,12/95,(-6)/95,42/95,24/95])"
   ]
  },
  {
   "cell_type": "markdown",
   "metadata": {},
   "source": [
    "#### l. Find $proj(w,v).$\n",
    "*Manual Solution*\n",
    "$$\n",
    "\\begin{align*}\n",
    "proj(w,v) &= \\frac{w \\cdotp v}{||v||^2}v\\\\\n",
    "&= \\frac{2(5)+1(-2)+(-3)(1)+(0)(-7)+(0)(-4)}{(\\sqrt{5^2 + (-2)^2 + 1^2 + (-7)^2 + (-4)^2})^2}(5,-2,1,-7,-4)\\\\\n",
    "&= \\frac{5}{(\\sqrt{95})^2}(5,-2,1,-7,-4)\\\\\n",
    "&= (\\frac{5}{19},\\frac{-2}{19},\\frac{5}{95},\\frac{42}{95},\\frac{24}{95})\n",
    "\\end{align*}\n",
    "$$\n",
    "*Pythonic Solution*"
   ]
  },
  {
   "cell_type": "code",
   "execution_count": 30,
   "metadata": {},
   "outputs": [
    {
     "name": "stdout",
     "output_type": "stream",
     "text": [
      "proj(w, v) =  [ 0.26315789 -0.10526316  0.05263158 -0.36842105 -0.21052632]\n",
      "proj(w, v) =  [0.2631578947368421, -0.10526315789473684, 0.05263157894736842, -0.3684210526315789, -0.21052631578947367]\n"
     ]
    }
   ],
   "source": [
    "import numpy as np\n",
    "w = np.array([2,1,-3,0,0])\n",
    "v = np.array([5,-2,1,-7,-4])\n",
    "print(\"proj(w,v):\", w.dot(v)*v/(np.linalg.norm(v)**2))\n",
    "print(\"proj(w,v):\", [5/19,-2/19,1/19,-7/19,-4/19])"
   ]
  },
  {
   "cell_type": "markdown",
   "metadata": {},
   "source": [
    "#### m. Find $proj(u,w).$\n",
    "*Manual Solution*\n",
    "$$\n",
    "\\begin{align*}\n",
    "proj(u,w) &= \\frac{u \\cdotp w}{||w||^2}v\\\\\n",
    "&= \\frac{2(2)+(-5)(1)+4(-3)+6(0)+(-3)(0)}{(\\sqrt{2^2 + 1^2 + (-3)^2})^2}(2,1,-3,0,0)\\\\\n",
    "&= \\frac{-13}{(\\sqrt{14})^2}(2,1,-3,0,0)\\\\\n",
    "&= (\\frac{-13}{7},\\frac{-13}{14},\\frac{39}{14},0,0)\n",
    "\\end{align*}\n",
    "$$\n",
    "*Pythonic Solution*"
   ]
  },
  {
   "cell_type": "code",
   "execution_count": 33,
   "metadata": {},
   "outputs": [
    {
     "name": "stdout",
     "output_type": "stream",
     "text": [
      "proj(u,w): [-1.85714286 -0.92857143  2.78571429  0.          0.        ]\n",
      "proj(u,w): [-1.8571428571428572, -0.9285714285714286, 2.7857142857142856, 0, 0]\n"
     ]
    }
   ],
   "source": [
    "import numpy as np\n",
    "u = np.array([2,-5,4,6,-3])\n",
    "w = np.array([2,1,-3,0,0])\n",
    "print(\"proj(u,w):\", u.dot(w)*w/(np.linalg.norm(w)**2))\n",
    "print(\"proj(u,w):\", [-13/7,-13/14,39/14,0,0])"
   ]
  },
  {
   "cell_type": "markdown",
   "metadata": {},
   "source": [
    "### 4. Normalize each vector:\n",
    "#### a. $u = (5,-7).$\n",
    "*Manual Solution*\n",
    "$$\n",
    "\\begin{align*}\n",
    "||u|| &= \\sqrt{5^2 + (-7)^2}\\\\\n",
    "&= \\sqrt{25 + 49}\\\\\n",
    "&= \\sqrt{74}\n",
    "\\end{align*}\n",
    "$$\n",
    "*Pythonic Solution*"
   ]
  },
  {
   "cell_type": "code",
   "execution_count": null,
   "metadata": {},
   "outputs": [],
   "source": [
    "import numpy as np\n",
    "u = np.array([5,-7])\n",
    "print(\"||u||:\", np.sqrt(u.dot(u)))\n",
    "print(\"||u||:\", np.sqrt(74))"
   ]
  },
  {
   "cell_type": "markdown",
   "metadata": {},
   "source": [
    "#### b. $v = (1,2,-2,4).$\n",
    "*Manual Solution*\n",
    "$$\n",
    "\\begin{align*}\n",
    "||v|| &= \\sqrt{1^2 + 2^2 + (-2)^2 + 4^2}\\\\\n",
    "&= \\sqrt{1 + 4 + 4 + 16}\\\\\n",
    "&= \\sqrt{25}\\\\\n",
    "&= 5\n",
    "\\end{align*}\n",
    "$$\n",
    "*Pythonic Solution*"
   ]
  },
  {
   "cell_type": "code",
   "execution_count": 35,
   "metadata": {},
   "outputs": [
    {
     "name": "stdout",
     "output_type": "stream",
     "text": [
      "||v||: 5.0\n"
     ]
    }
   ],
   "source": [
    "import numpy as np\n",
    "v = np.array([1,2,-2,4])\n",
    "print(\"||v||:\", np.sqrt(v.dot(v)))"
   ]
  },
  {
   "cell_type": "markdown",
   "metadata": {},
   "source": [
    "#### c. $w = (\\frac{1}{2},\\frac{-1}{3},\\frac{3}{4}).$\n",
    "*Manual Solution*\n",
    "$$\n",
    "\\begin{align*}\n",
    "||w|| &= \\sqrt{(\\frac{1}{2})^2,(\\frac{-1}{3})^2,(\\frac{3}{4})^2}\\\\\n",
    "&= \\sqrt{\\frac{1}{4} + \\frac{1}{9} + \\frac{9}{16}}\\\\\n",
    "&= \\sqrt{\\frac{133}{144}}\n",
    "\\end{align*}\n",
    "$$\n",
    "*Pythonic Solution*"
   ]
  },
  {
   "cell_type": "code",
   "execution_count": 37,
   "metadata": {},
   "outputs": [
    {
     "name": "stdout",
     "output_type": "stream",
     "text": [
      "||w||: 0.961046882889233\n",
      "||w||: 0.961046882889233\n"
     ]
    }
   ],
   "source": [
    "import numpy as np\n",
    "w = np.array([1/2,-1/3,3/4])\n",
    "print(\"||w||:\", np.sqrt(w.dot(w)))\n",
    "print(\"||w||:\", np.sqrt(133/144))"
   ]
  },
  {
   "cell_type": "markdown",
   "metadata": {},
   "source": [
    "### 5. Let $ u = (1,2,-2), v = (3,-12,4)$ and a scalar $k = -3$:\n",
    "#### Find $||u||:$\n",
    "*Manual Solution*\n",
    "$$\n",
    "\\begin{align*}\n",
    "||u|| &= \\sqrt{1^2 + 2^2 + (-2)^2}\\\\\n",
    "&= \\sqrt{2 + 4 + 4}\\\\\n",
    "&= \\sqrt{9}\\\\\n",
    "&= 3\n",
    "\\end{align*}\n",
    "$$\n",
    "*Pythonic Solution*"
   ]
  },
  {
   "cell_type": "code",
   "execution_count": 38,
   "metadata": {},
   "outputs": [
    {
     "name": "stdout",
     "output_type": "stream",
     "text": [
      "||u||: 3.0\n"
     ]
    }
   ],
   "source": [
    "import numpy as np\n",
    "u = np.array([1,2,-2])\n",
    "print(\"||u||:\", np.sqrt(u.dot(u)))"
   ]
  },
  {
   "cell_type": "markdown",
   "metadata": {},
   "source": [
    "#### Find $||v||:$\n",
    "*Manual Solution*\n",
    "$$\n",
    "\\begin{align*}\n",
    "||v|| &= \\sqrt{3^2 + (-12)^2 + 4^2}\\\\\n",
    "&= \\sqrt{9 + 144 + 16}\\\\\n",
    "&= \\sqrt{169}\\\\\n",
    "&= 13\n",
    "\\end{align*}\n",
    "$$\n",
    "*Pythonic Solution*"
   ]
  },
  {
   "cell_type": "code",
   "execution_count": 39,
   "metadata": {},
   "outputs": [
    {
     "name": "stdout",
     "output_type": "stream",
     "text": [
      "||v||: 13.0\n"
     ]
    }
   ],
   "source": [
    "import numpy as np\n",
    "v = np.array([3,-12,4])\n",
    "print(\"||v||:\", np.sqrt(v.dot(v)))"
   ]
  },
  {
   "cell_type": "markdown",
   "metadata": {},
   "source": [
    "#### Find $||u + v||:$\n",
    "*Manual Solution*\n",
    "$$\n",
    "\\begin{align*}\n",
    "||u+v|| &= \\sqrt{(1 + 3)^2 + (2 + (-12))^2 + ((-2) + 4)^2}\\\\\n",
    "&= \\sqrt{16 + 100 + 4}\\\\\n",
    "&= \\sqrt{120}\\\\\n",
    "\\end{align*}\n",
    "$$\n"
   ]
  },
  {
   "cell_type": "code",
   "execution_count": 45,
   "metadata": {},
   "outputs": [
    {
     "name": "stdout",
     "output_type": "stream",
     "text": [
      "||u + v||: 10.954451150103322\n",
      "sqrt(120): 10.954451150103322\n"
     ]
    }
   ],
   "source": [
    "import numpy as np\n",
    "u = np.array([1,2,-2])\n",
    "v = np.array([3,-12,4])\n",
    "print(\"||u + v||:\", np.linalg.norm(u+v))\n",
    "print(\"sqrt(120):\", np.sqrt(120))"
   ]
  },
  {
   "cell_type": "markdown",
   "metadata": {},
   "source": [
    "#### Find $||ku||:$\n",
    "*Manual Solution*\n",
    "$$\n",
    "\\begin{align*}\n",
    "||ku|| &= \\sqrt{((-3)(1))^2 + ((-3)(2))^2 + ((-3)(-2))^2}\\\\\n",
    "&= \\sqrt{(-3)^2 + (-6)^2 + 6^2}\\\\\n",
    "&= \\sqrt{81}\\\\\n",
    "&= 9\n",
    "\\end{align*}\n",
    "$$"
   ]
  },
  {
   "cell_type": "code",
   "execution_count": 47,
   "metadata": {},
   "outputs": [
    {
     "name": "stdout",
     "output_type": "stream",
     "text": [
      "||ku||: 9.0\n",
      "sqrt(81): 9.0\n"
     ]
    }
   ],
   "source": [
    "import numpy as np\n",
    "v = np.array([3,-12,4])\n",
    "k = -3\n",
    "print(\"||ku||:\", np.linalg.norm(k*u))\n",
    "print(\"sqrt(81):\", np.sqrt(81))"
   ]
  },
  {
   "cell_type": "markdown",
   "metadata": {},
   "source": [
    "### 6. Find $k$ so that $u$ and $v$ are orthogonal.\n",
    "#### a. $u = (3,k,-2), v = (6,-4,-3)$\n",
    "*Manual Solution*\n",
    "$$\n",
    "\\begin{align*}\n",
    "u\\cdotp v &= 0\\\\\n",
    "(3)(6) + (\\textbf{k})(-4) + (-2)(-3) &= 0\\\\\n",
    "18 - 4k + 6 &= 0\\\\\n",
    "-4k + 24 &= 0\\\\\n",
    "\\frac{-4k}{-4} &= \\frac{-24}{-4}\\\\\n",
    "k &= 6\n",
    "\\end{align*}\n",
    "$$\n",
    "*Pythonic Solution*"
   ]
  },
  {
   "cell_type": "code",
   "execution_count": 61,
   "metadata": {},
   "outputs": [
    {
     "name": "stdout",
     "output_type": "stream",
     "text": [
      "k = 6.0\n",
      "Check for orthogonality: u.v = 0.0\n"
     ]
    }
   ],
   "source": [
    "import numpy as np\n",
    "k = (-(2*3)-(3*6))/-4\n",
    "print(\"k =\", k)\n",
    "\n",
    "u = np.array([3,k,-2])\n",
    "v = np.array([6,-4,-3])\n",
    "print(\"Check for orthogonality: u.v =\", u.dot(v))"
   ]
  },
  {
   "cell_type": "markdown",
   "metadata": {},
   "source": [
    "#### b. $u = (5,k,-4,2), v = (1,-3,2,2k)$\n",
    "*Manual Solution*\n",
    "$$\n",
    "\\begin{align*}\n",
    "u\\cdotp v &= 0 \\\\\n",
    "(5)(1) + (k)(-3) + (-4)(2) + (2)(2k) &= 0 \\\\\n",
    "5 - 3k - 8 + 4k &= 0 \\\\\n",
    "k &= -5 + 8 \\\\\n",
    "k &= 3\n",
    "\\end{align*}\n",
    "$$\n",
    "*Pythonic Solution*"
   ]
  },
  {
   "cell_type": "code",
   "execution_count": 62,
   "metadata": {},
   "outputs": [
    {
     "name": "stdout",
     "output_type": "stream",
     "text": [
      "k = 3.0\n",
      "Check for orthognoality: u.v = 0.0\n"
     ]
    }
   ],
   "source": [
    "import numpy as np\n",
    "k = (-(5*1)-(-4 * 2))/(-3+2*2)\n",
    "print(\"k =\", k)\n",
    "\n",
    "u = np.array([5, k, -4, 2])\n",
    "v = np.array([1, -3, 2, 2*k])\n",
    "print(\"Check for orthognoality: u.v =\", u.dot(v))"
   ]
  },
  {
   "cell_type": "markdown",
   "metadata": {},
   "source": [
    "#### b. $u = (1,7,k + 2,-2), v = (3,k,-3,k)$\n",
    "*Manual Solution*\n",
    "$$\n",
    "\\begin{align*}\n",
    "u\\cdotp v &= 0\\\\\n",
    "(1)(3) + (7)(k) + (k + 2)(-3) + (-2)(k) &= 0\\\\\n",
    "3 + 7k - 3k - 6 - 2k &= 0\\\\\n",
    "2k - 3 &= 0\\\\\n",
    "2k &= 3\\\\\n",
    "k &= \\frac{3}{2}\n",
    "\\end{align*}\n",
    "$$\n",
    "*Pythonic Solution*"
   ]
  },
  {
   "cell_type": "code",
   "execution_count": 63,
   "metadata": {},
   "outputs": [
    {
     "name": "stdout",
     "output_type": "stream",
     "text": [
      "k = 1.5\n",
      "Check for orthogonality: u.v = 0.0\n"
     ]
    }
   ],
   "source": [
    "import numpy as np\n",
    "k = ((-1*3)-(2*-3))/(7+-3+-2)\n",
    "print(\"k =\", k)\n",
    "\n",
    "u = np.array([1,7,k+2,-2])\n",
    "v = np.array([3,k,-3,k])\n",
    "print(\"Check for orthogonality: u.v =\", u.dot(v))"
   ]
  }
 ],
 "metadata": {
  "kernelspec": {
   "display_name": "Python 3",
   "language": "python",
   "name": "python3"
  },
  "language_info": {
   "codemirror_mode": {
    "name": "ipython",
    "version": 3
   },
   "file_extension": ".py",
   "mimetype": "text/x-python",
   "name": "python",
   "nbconvert_exporter": "python",
   "pygments_lexer": "ipython3",
   "version": "3.11.5"
  },
  "orig_nbformat": 4
 },
 "nbformat": 4,
 "nbformat_minor": 2
}
