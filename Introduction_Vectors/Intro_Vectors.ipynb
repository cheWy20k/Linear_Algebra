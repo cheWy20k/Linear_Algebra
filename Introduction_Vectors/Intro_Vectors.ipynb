{
 "cells": [
  {
   "attachments": {},
   "cell_type": "markdown",
   "metadata": {},
   "source": [
    "## Assignment 1 Answers\n",
    "### 1. Let  u = (1,-2,4) and v = (3,5,1) w = (2,1,-3) find:<br />\n",
    "#### a. $3u - 2v$\n",
    "*Manual Solution*\n",
    "$$\n",
    "\\begin{align*}\n",
    "3u - 2v &= 3(1,-2,4) - 2(3,5,1)\\\\\n",
    "&= 3(1,-2,4) - 2(3,5,1)\\\\\n",
    "&= (3,-6,12) - (6,10,2)\\\\\n",
    "&= (-3,-16,10)\n",
    "\\end{align*}\n",
    "$$\n",
    "*Pythonic Solution*"
   ]
  },
  {
   "cell_type": "code",
   "execution_count": 9,
   "metadata": {},
   "outputs": [
    {
     "name": "stdout",
     "output_type": "stream",
     "text": [
      "3u + 2v = [ -3 -16  10]\n"
     ]
    }
   ],
   "source": [
    "import numpy as np\n",
    "u = np.array([1, -2, 4])\n",
    "v = np.array([3, 5, 1])\n",
    "print(\"3u + 2v =\",3*u - 2*v)"
   ]
  },
  {
   "attachments": {},
   "cell_type": "markdown",
   "metadata": {},
   "source": [
    "#### b. $5u + 3v - 4w$\n",
    "*Manual Solution*\n",
    "$$\n",
    "\\begin{align*}\n",
    "5u + 3v - 4w &= 5(1,-2,4) + 3(3,5,1) - 4(2,1,-3)\\\\\n",
    "&= (5,-10,20) + (9,15,3) - (8,4,-12)\\\\\n",
    "&= (14,5,23) - (8,4,-12)\\\\\n",
    "&= (6,1,35)\n",
    "\\end{align*}\n",
    "$$\n",
    "*Pythonic Solution*"
   ]
  },
  {
   "cell_type": "code",
   "execution_count": 32,
   "metadata": {},
   "outputs": [
    {
     "name": "stdout",
     "output_type": "stream",
     "text": [
      "5u + 3v - 4w = [ 6  1 35]\n"
     ]
    }
   ],
   "source": [
    "u = np.array([1,-2,4])\n",
    "v = np.array([3,5,1])\n",
    "w = np.array([2,1,-3])\n",
    "print(\"5u + 3v - 4w =\",5*u + 3*v - 4*w)"
   ]
  },
  {
   "attachments": {},
   "cell_type": "markdown",
   "metadata": {},
   "source": [
    "#### c. $u \\cdotp v, v \\cdotp w, u \\cdotp w$\n",
    "*Manual Solution*\n",
    "$$\n",
    "\\begin{align*}\n",
    "u \\cdotp v &= 1(3) + -2(5) + 4(1)\\\\\n",
    "&= 3 + (-10) + 4\\\\\n",
    "&= -3\\\\\n",
    "v \\cdotp w &= 3(2) + 5(1) + 1(-3)\\\\\n",
    "&= 6 + 5 + (-3)\\\\\n",
    "&= 8\\\\\n",
    "u \\cdotp w &= 1(2) + -2(1) + 4(-3)\\\\\n",
    "&= 2 + (-2) + (-12)\\\\\n",
    "&= -12\\\\\n",
    "\\end{align*}\n",
    "$$\n",
    "*Pythonic Solution*"
   ]
  },
  {
   "cell_type": "code",
   "execution_count": 38,
   "metadata": {},
   "outputs": [
    {
     "name": "stdout",
     "output_type": "stream",
     "text": [
      "u.v = -3\n",
      "v.w = 8\n",
      "u.w = -12\n"
     ]
    }
   ],
   "source": [
    "u = np.array([1,-2,4])\n",
    "v = np.array([3,5,1])\n",
    "w = np.array([2,1,-3])\n",
    "print(\"u.v =\",u.dot(v))\n",
    "print(\"v.w =\",v.dot(w))\n",
    "print(\"u.w =\",u.dot(w))"
   ]
  },
  {
   "attachments": {},
   "cell_type": "markdown",
   "metadata": {},
   "source": [
    "#### d. $||u||, ||v||, ||w||$\n",
    "*Manual Solution*\n",
    "$$\n",
    "\\begin{align*}\n",
    "||u|| &= \\sqrt{1^2 + (-2)^2 + 4^2}\\\\\n",
    "&= \\sqrt{1 + 4 + 16}\\\\\n",
    "&= \\sqrt{21}\\\\\n",
    "||v|| &= \\sqrt{3^2 + 5^2 + 1^2}\\\\\n",
    "&= \\sqrt{9 + 25 + 1}\\\\\n",
    "&= \\sqrt{35}\\\\\n",
    "||w|| &= \\sqrt{2^2 + 1^2 + (-3)^2}\\\\\n",
    "&= \\sqrt{4 + 1 + 9}\\\\\n",
    "&= \\sqrt{14}\\\\\n",
    "\\end{align*}\n",
    "$$\n",
    "*Pythonic Solution*"
   ]
  },
  {
   "cell_type": "code",
   "execution_count": 48,
   "metadata": {},
   "outputs": [
    {
     "name": "stdout",
     "output_type": "stream",
     "text": [
      "||u|| = 4.58257569495584\n",
      "sqrt(21) = 4.58257569495584\n",
      "||v|| = 5.916079783099616\n",
      "sqrt(35) = 5.916079783099616\n",
      "||w|| = 3.7416573867739413\n",
      "sqrt(14) = 3.7416573867739413\n"
     ]
    }
   ],
   "source": [
    "u = np.array([1,-2,4])\n",
    "v = np.array([3,5,1])\n",
    "w = np.array([2,1,-3])\n",
    "print(\"||u|| =\",np.sqrt(u.dot(u)))\n",
    "print(\"sqrt(21) =\",np.sqrt(21))\n",
    "print(\"||v|| =\",np.sqrt(v.dot(v)))\n",
    "print(\"sqrt(35) =\",np.sqrt(35))\n",
    "print(\"||w|| =\",np.sqrt(w.dot(w)))\n",
    "print(\"sqrt(14) =\",np.sqrt(14))"
   ]
  },
  {
   "attachments": {},
   "cell_type": "markdown",
   "metadata": {},
   "source": [
    "#### e. If $\\theta$ is the angle between $u$ and $v$, find $\\cos$ $\\theta$\n",
    "*Manual Solution*\n",
    "$$\n",
    "\\begin{align*}\n",
    "\\cos \\theta &= \\frac{u\\cdotp v}{||u||\\,||v||}\\\\\n",
    "u \\cdotp v &= 1(3) + -2(5) + 4(1)\\\\\n",
    "&= 3 + (-10) + 4\\\\\n",
    "&= -3\\\\\n",
    "||u||\\,||v|| &= \\sqrt{1^2 + (-2)^2 + 4^2}\\,\\sqrt{3^2 + 5^2 + 1^2}\\\\\n",
    "&= \\sqrt{1 + 4 + 16}\\,\\sqrt{9 + 25 + 1}\\\\\n",
    "&= \\sqrt{21}\\,\\sqrt{35}\\\\\n",
    "\\cos \\theta &= \\frac{-3}{\\sqrt{21}\\,\\sqrt{35}}\\\\\n",
    "\\end{align*}\n",
    "$$\n",
    "*Pythonic Solution*"
   ]
  },
  {
   "cell_type": "code",
   "execution_count": 50,
   "metadata": {},
   "outputs": [
    {
     "name": "stdout",
     "output_type": "stream",
     "text": [
      "angle: -0.11065666703449763\n",
      "angle: -0.11065666703449763\n"
     ]
    }
   ],
   "source": [
    "u = np.array([1,-2,4])\n",
    "v = np.array([3,5,1])\n",
    "print(\"angle:\",u.dot(v)/(np.linalg.norm(u)*np.linalg.norm(v)))\n",
    "print(\"angle:\",-3/(np.sqrt(21)*np.sqrt(35)))\n"
   ]
  }
 ],
 "metadata": {
  "kernelspec": {
   "display_name": "Python 3",
   "language": "python",
   "name": "python3"
  },
  "language_info": {
   "codemirror_mode": {
    "name": "ipython",
    "version": 3
   },
   "file_extension": ".py",
   "mimetype": "text/x-python",
   "name": "python",
   "nbconvert_exporter": "python",
   "pygments_lexer": "ipython3",
   "version": "3.11.5"
  },
  "orig_nbformat": 4
 },
 "nbformat": 4,
 "nbformat_minor": 2
}
